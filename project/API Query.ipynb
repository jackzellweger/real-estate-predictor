{
 "cells": [
  {
   "cell_type": "code",
   "execution_count": 48,
   "id": "ef944181",
   "metadata": {},
   "outputs": [
    {
     "name": "stdout",
     "output_type": "stream",
     "text": [
      "{\"prediction_price\":1671987}\n",
      "\n"
     ]
    }
   ],
   "source": [
    "import requests\n",
    "data = {\n",
    "    'BOROUGH CODE': 3,\n",
    "    'GROUPED CATEGORY': 'Apartment',\n",
    "    'GROSS SQUARE FEET': 2000,\n",
    "    'LAND SQUARE FEET': 1000,\n",
    "    'LATITUDE': 40.6727,\n",
    "    'LONGITUDE': -73.9650\n",
    "}\n",
    "\n",
    "response = requests.post('http://localhost:8080/predict', json=data)\n",
    "\n",
    "print(response.text)"
   ]
  },
  {
   "cell_type": "code",
   "execution_count": 12,
   "id": "71a61c32",
   "metadata": {},
   "outputs": [
    {
     "name": "stdout",
     "output_type": "stream",
     "text": [
      "{\n",
      "  \"prediction_price\": 1671987\n",
      "}\n",
      "\n"
     ]
    }
   ],
   "source": [
    "import requests\n",
    "\n",
    "data = {\n",
    "    'BOROUGH CODE': 3,\n",
    "    'GROUPED CATEGORY': 'Apartment',\n",
    "    'GROSS SQUARE FEET': 2000,\n",
    "    'LAND SQUARE FEET': 1000,\n",
    "    'LATITUDE': 40.6727,\n",
    "    'LONGITUDE': -73.9650\n",
    "}\n",
    "\n",
    "# Replace 'localhost' with the IP address of your EC2 instance\n",
    "response = requests.post('http://18.191.42.228:8080/predict', json=data)\n",
    "\n",
    "print(response.text)\n"
   ]
  },
  {
   "cell_type": "code",
   "execution_count": null,
   "id": "2ad2b592",
   "metadata": {},
   "outputs": [],
   "source": []
  },
  {
   "cell_type": "code",
   "execution_count": null,
   "id": "11ffa766",
   "metadata": {},
   "outputs": [],
   "source": []
  }
 ],
 "metadata": {
  "kernelspec": {
   "display_name": "Python 3 (ipykernel)",
   "language": "python",
   "name": "python3"
  },
  "language_info": {
   "codemirror_mode": {
    "name": "ipython",
    "version": 3
   },
   "file_extension": ".py",
   "mimetype": "text/x-python",
   "name": "python",
   "nbconvert_exporter": "python",
   "pygments_lexer": "ipython3",
   "version": "3.9.16"
  }
 },
 "nbformat": 4,
 "nbformat_minor": 5
}
