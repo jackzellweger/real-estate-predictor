{
 "cells": [
  {
   "cell_type": "code",
   "execution_count": 3,
   "id": "91d0db9f",
   "metadata": {},
   "outputs": [],
   "source": [
    "# HELPERS\n",
    "import helpers\n",
    "import importlib\n",
    "importlib.reload(helpers)\n",
    "\n",
    "# OPERATING SYSTEM STUFF\n",
    "import os\n",
    "import io\n",
    "import gc\n",
    "\n",
    "# BASIC DATA SCIENCE\n",
    "import numpy as np\n",
    "import matplotlib.pyplot as plt\n",
    "import pandas as pd\n",
    "\n",
    "# MACHINE LEARNING\n",
    "from sklearn.preprocessing import MinMaxScaler\n",
    "from sklearn.model_selection import train_test_split\n",
    "from sklearn.neural_network import MLPRegressor\n",
    "from sklearn.metrics import mean_absolute_error\n",
    "from sklearn.ensemble import RandomForestRegressor\n",
    "from sklearn.model_selection import GridSearchCV\n",
    "from sklearn.preprocessing import OneHotEncoder, StandardScaler\n",
    "from sklearn.compose import ColumnTransformer\n",
    "\n",
    "# MODEL PACKAGING\n",
    "import joblib\n",
    "\n",
    "# API STUFF\n",
    "import xlrd\n",
    "import requests\n",
    "import json\n",
    "\n",
    "# SQL\n",
    "from sqlalchemy import create_engine, text, String, Integer, Float, Boolean, MetaData, Table, select\n",
    "from sqlalchemy.exc import ProgrammingError # ProgrammingError catches SQL write exceptions\n",
    "from sqlalchemy.sql import and_\n",
    "\n",
    "# GEOCODING\n",
    "from geopy.geocoders import GoogleV3\n",
    "\n",
    "# CONFIGURATION FILES\n",
    "import config\n",
    "importlib.reload(config)\n",
    "pd.set_option('display.float_format', '{:.6f}'.format)\n",
    "\n",
    "# OTHER\n",
    "from tqdm.notebook import tqdm\n",
    "# This is a test change"
   ]
  },
  {
   "cell_type": "code",
   "execution_count": 4,
   "id": "0fa97a1f",
   "metadata": {},
   "outputs": [
    {
     "name": "stderr",
     "output_type": "stream",
     "text": [
      "/usr/local/lib/python3.6/dist-packages/ipykernel_launcher.py:19: RemovedIn20Warning: Deprecated API features detected! These feature(s) are not compatible with SQLAlchemy 2.0. To prevent incompatible upgrades prior to updating applications, ensure requirements files are pinned to \"sqlalchemy<2.0\". Set environment variable SQLALCHEMY_WARN_20=1 to show all deprecation warnings.  Set environment variable SQLALCHEMY_SILENCE_UBER_WARNING=1 to silence this message. (Background on SQLAlchemy 2.0 at: https://sqlalche.me/e/b8d9)\n"
     ]
    }
   ],
   "source": [
    "# CREATE DATABASE CONNECTIONS\n",
    "\n",
    "# Silence errors\n",
    "os.environ['SQLALCHEMY_WARN_20'] = '0'\n",
    "os.environ['SQLALCHEMY_SILENCE_UBER_WARNING'] = '1'\n",
    "\n",
    "# Database params & credentials\n",
    "username = config.DB_USERNAME\n",
    "password = config.DB_PASSWORD\n",
    "hostname = config.DB_HOSTNAME\n",
    "database_name = config.DB_NAME\n",
    "\n",
    "# Create database connection\n",
    "engine = create_engine(f'mysql+pymysql://{username}:{password}@{hostname}')\n",
    "\n",
    "# Create database and tables\n",
    "try:\n",
    "    with engine.connect() as connection:\n",
    "        connection.execute(text(f'CREATE DATABASE {database_name};'))\n",
    "except ProgrammingError:\n",
    "    pass\n",
    "\n",
    "# Reset connection to connect to specific database\n",
    "engine = create_engine(f'mysql+pymysql://{username}:{password}@{hostname}/{database_name}')"
   ]
  },
  {
   "cell_type": "code",
   "execution_count": 6,
   "id": "cbab32db",
   "metadata": {},
   "outputs": [
    {
     "ename": "ValueError",
     "evalue": "Table 'geocodes' already exists.",
     "output_type": "error",
     "traceback": [
      "\u001b[0;31m---------------------------------------------------------------------------\u001b[0m",
      "\u001b[0;31mValueError\u001b[0m                                Traceback (most recent call last)",
      "\u001b[0;32m<ipython-input-6-acb9a5587232>\u001b[0m in \u001b[0;36m<module>\u001b[0;34m\u001b[0m\n\u001b[1;32m     14\u001b[0m                              \u001b[0mcon\u001b[0m\u001b[0;34m=\u001b[0m\u001b[0mengine\u001b[0m\u001b[0;34m,\u001b[0m\u001b[0;34m\u001b[0m\u001b[0;34m\u001b[0m\u001b[0m\n\u001b[1;32m     15\u001b[0m                              \u001b[0mindex\u001b[0m\u001b[0;34m=\u001b[0m\u001b[0;32mFalse\u001b[0m\u001b[0;34m,\u001b[0m\u001b[0;34m\u001b[0m\u001b[0;34m\u001b[0m\u001b[0m\n\u001b[0;32m---> 16\u001b[0;31m                              if_exists='fail')\n\u001b[0m\u001b[1;32m     17\u001b[0m \u001b[0;34m\u001b[0m\u001b[0m\n\u001b[1;32m     18\u001b[0m     \u001b[0;32mtry\u001b[0m\u001b[0;34m:\u001b[0m \u001b[0;31m# This will only work if there is not already a column called 'PRIMARY_KEY'\u001b[0m\u001b[0;34m\u001b[0m\u001b[0;34m\u001b[0m\u001b[0m\n",
      "\u001b[0;32m/usr/local/lib/python3.6/dist-packages/pandas/core/generic.py\u001b[0m in \u001b[0;36mto_sql\u001b[0;34m(self, name, con, schema, if_exists, index, index_label, chunksize, dtype, method)\u001b[0m\n\u001b[1;32m   2613\u001b[0m             \u001b[0mchunksize\u001b[0m\u001b[0;34m=\u001b[0m\u001b[0mchunksize\u001b[0m\u001b[0;34m,\u001b[0m\u001b[0;34m\u001b[0m\u001b[0;34m\u001b[0m\u001b[0m\n\u001b[1;32m   2614\u001b[0m             \u001b[0mdtype\u001b[0m\u001b[0;34m=\u001b[0m\u001b[0mdtype\u001b[0m\u001b[0;34m,\u001b[0m\u001b[0;34m\u001b[0m\u001b[0;34m\u001b[0m\u001b[0m\n\u001b[0;32m-> 2615\u001b[0;31m             \u001b[0mmethod\u001b[0m\u001b[0;34m=\u001b[0m\u001b[0mmethod\u001b[0m\u001b[0;34m,\u001b[0m\u001b[0;34m\u001b[0m\u001b[0;34m\u001b[0m\u001b[0m\n\u001b[0m\u001b[1;32m   2616\u001b[0m         )\n\u001b[1;32m   2617\u001b[0m \u001b[0;34m\u001b[0m\u001b[0m\n",
      "\u001b[0;32m/usr/local/lib/python3.6/dist-packages/pandas/io/sql.py\u001b[0m in \u001b[0;36mto_sql\u001b[0;34m(frame, name, con, schema, if_exists, index, index_label, chunksize, dtype, method)\u001b[0m\n\u001b[1;32m    596\u001b[0m         \u001b[0mchunksize\u001b[0m\u001b[0;34m=\u001b[0m\u001b[0mchunksize\u001b[0m\u001b[0;34m,\u001b[0m\u001b[0;34m\u001b[0m\u001b[0;34m\u001b[0m\u001b[0m\n\u001b[1;32m    597\u001b[0m         \u001b[0mdtype\u001b[0m\u001b[0;34m=\u001b[0m\u001b[0mdtype\u001b[0m\u001b[0;34m,\u001b[0m\u001b[0;34m\u001b[0m\u001b[0;34m\u001b[0m\u001b[0m\n\u001b[0;32m--> 598\u001b[0;31m         \u001b[0mmethod\u001b[0m\u001b[0;34m=\u001b[0m\u001b[0mmethod\u001b[0m\u001b[0;34m,\u001b[0m\u001b[0;34m\u001b[0m\u001b[0;34m\u001b[0m\u001b[0m\n\u001b[0m\u001b[1;32m    599\u001b[0m     )\n\u001b[1;32m    600\u001b[0m \u001b[0;34m\u001b[0m\u001b[0m\n",
      "\u001b[0;32m/usr/local/lib/python3.6/dist-packages/pandas/io/sql.py\u001b[0m in \u001b[0;36mto_sql\u001b[0;34m(self, frame, name, if_exists, index, index_label, schema, chunksize, dtype, method)\u001b[0m\n\u001b[1;32m   1391\u001b[0m             \u001b[0mdtype\u001b[0m\u001b[0;34m=\u001b[0m\u001b[0mdtype\u001b[0m\u001b[0;34m,\u001b[0m\u001b[0;34m\u001b[0m\u001b[0;34m\u001b[0m\u001b[0m\n\u001b[1;32m   1392\u001b[0m         )\n\u001b[0;32m-> 1393\u001b[0;31m         \u001b[0mtable\u001b[0m\u001b[0;34m.\u001b[0m\u001b[0mcreate\u001b[0m\u001b[0;34m(\u001b[0m\u001b[0;34m)\u001b[0m\u001b[0;34m\u001b[0m\u001b[0;34m\u001b[0m\u001b[0m\n\u001b[0m\u001b[1;32m   1394\u001b[0m \u001b[0;34m\u001b[0m\u001b[0m\n\u001b[1;32m   1395\u001b[0m         \u001b[0;32mfrom\u001b[0m \u001b[0msqlalchemy\u001b[0m \u001b[0;32mimport\u001b[0m \u001b[0mexc\u001b[0m\u001b[0;34m\u001b[0m\u001b[0;34m\u001b[0m\u001b[0m\n",
      "\u001b[0;32m/usr/local/lib/python3.6/dist-packages/pandas/io/sql.py\u001b[0m in \u001b[0;36mcreate\u001b[0;34m(self)\u001b[0m\n\u001b[1;32m    721\u001b[0m         \u001b[0;32mif\u001b[0m \u001b[0mself\u001b[0m\u001b[0;34m.\u001b[0m\u001b[0mexists\u001b[0m\u001b[0;34m(\u001b[0m\u001b[0;34m)\u001b[0m\u001b[0;34m:\u001b[0m\u001b[0;34m\u001b[0m\u001b[0;34m\u001b[0m\u001b[0m\n\u001b[1;32m    722\u001b[0m             \u001b[0;32mif\u001b[0m \u001b[0mself\u001b[0m\u001b[0;34m.\u001b[0m\u001b[0mif_exists\u001b[0m \u001b[0;34m==\u001b[0m \u001b[0;34m\"fail\"\u001b[0m\u001b[0;34m:\u001b[0m\u001b[0;34m\u001b[0m\u001b[0;34m\u001b[0m\u001b[0m\n\u001b[0;32m--> 723\u001b[0;31m                 \u001b[0;32mraise\u001b[0m \u001b[0mValueError\u001b[0m\u001b[0;34m(\u001b[0m\u001b[0;34mf\"Table '{self.name}' already exists.\"\u001b[0m\u001b[0;34m)\u001b[0m\u001b[0;34m\u001b[0m\u001b[0;34m\u001b[0m\u001b[0m\n\u001b[0m\u001b[1;32m    724\u001b[0m             \u001b[0;32melif\u001b[0m \u001b[0mself\u001b[0m\u001b[0;34m.\u001b[0m\u001b[0mif_exists\u001b[0m \u001b[0;34m==\u001b[0m \u001b[0;34m\"replace\"\u001b[0m\u001b[0;34m:\u001b[0m\u001b[0;34m\u001b[0m\u001b[0;34m\u001b[0m\u001b[0m\n\u001b[1;32m    725\u001b[0m                 \u001b[0mself\u001b[0m\u001b[0;34m.\u001b[0m\u001b[0mpd_sql\u001b[0m\u001b[0;34m.\u001b[0m\u001b[0mdrop_table\u001b[0m\u001b[0;34m(\u001b[0m\u001b[0mself\u001b[0m\u001b[0;34m.\u001b[0m\u001b[0mname\u001b[0m\u001b[0;34m,\u001b[0m \u001b[0mself\u001b[0m\u001b[0;34m.\u001b[0m\u001b[0mschema\u001b[0m\u001b[0;34m)\u001b[0m\u001b[0;34m\u001b[0m\u001b[0;34m\u001b[0m\u001b[0m\n",
      "\u001b[0;31mValueError\u001b[0m: Table 'geocodes' already exists."
     ]
    }
   ],
   "source": [
    "# CREATE DATABASES\n",
    "\n",
    "# Silence errors\n",
    "os.environ['SQLALCHEMY_WARN_20'] = '0'\n",
    "os.environ['SQLALCHEMY_SILENCE_UBER_WARNING'] = '1'\n",
    "\n",
    "# -------------- CREATE `geocodes` TABLE ---------------\n",
    "geocodes_sql_table_name = 'geocodes'\n",
    "with engine.connect() as connection:\n",
    "    \n",
    "    try:\n",
    "        # Uses the geocode table backup if the table doesn't yet exist...\n",
    "        geocodes_reset_df = pd.read_csv('geocodes_export_backup.csv')\n",
    "        geocodes_reset_df.to_sql(geocodes_sql_table_name,\n",
    "                                 con=engine,\n",
    "                                 index=False,\n",
    "                                 if_exists='fail')\n",
    "    except:\n",
    "        print(f\"{geocodes_sql_table_name} table already exists. Not resetting!\")\n",
    "    \n",
    "    try: # This will only work if there is not already a column called 'PRIMARY_KEY'\n",
    "        connection.execute( # Set primary key\n",
    "            text(\n",
    "                f'ALTER TABLE {geocodes_sql_table_name} ADD COLUMN PRIMARY_KEY VARCHAR(255)'\n",
    "            )\n",
    "        )\n",
    "        print(f\"Column PRIMARY_KEY created in table {geocodes_sql_table_name}, database '{database_name}'.\")\n",
    "    except:\n",
    "        print(f\"Column PRIMARY_KEY already exists in in table {geocodes_sql_table_name}, database '{database_name}'.\")\n",
    "    \n",
    "    try:\n",
    "        connection.execute( # Set the values of the primary keys\n",
    "            text(\n",
    "                f'UPDATE {geocodes_sql_table_name} SET PRIMARY_KEY = CONCAT(`BOROUGH`, \\'_\\', `ADDRESS`)'\n",
    "            )\n",
    "        )\n",
    "        print(f\"PRIMARY_KEY column values set in database '{database_name}'.\")\n",
    "    except:\n",
    "        print(f\"PRIMARY_KEY column values set error in database '{database_name}'.\") \n",
    "        \n",
    "# 2.) -------------- CREATE `cat_map` TABLE ---------------\n",
    "mapping_list = [(k, v) for k, vals in helpers.mapping.items() for v in vals]\n",
    "mapping_df = pd.DataFrame(\n",
    "    mapping_list,\n",
    "    columns=['ZILLOW CATEGORY', 'BUILDING CLASS CATEGORY']\n",
    ")\n",
    "with engine.connect() as connection:\n",
    "    # Put the map into a SQL table. Why? Not sure. Might need it later!\n",
    "    mapping_df.to_sql('cat_map', con=engine, index=False, if_exists='replace')"
   ]
  },
  {
   "cell_type": "code",
   "execution_count": 7,
   "id": "a81f85bb",
   "metadata": {},
   "outputs": [],
   "source": [
    "# Create an empty array that will hold our NYC Housing DataFrames\n",
    "data = []\n",
    "\n",
    "# Pull data from the NYC website\n",
    "for url in helpers.dataURLs:\n",
    "    # Read Excel file and skip the first 4 rows\n",
    "    df = pd.read_excel(url, skiprows=4, engine=\"openpyxl\")\n",
    "    data.append(df)"
   ]
  },
  {
   "cell_type": "code",
   "execution_count": 9,
   "id": "12066813",
   "metadata": {},
   "outputs": [],
   "source": [
    "# Combine the dataframes from the nyc housing website\n",
    "combined = pd.concat(data, ignore_index=True)\n",
    "\n",
    "# Rename the 'BOROUGH' column to 'BOROUGH CODE'\n",
    "combined = combined.rename(columns={'BOROUGH': 'BOROUGH CODE'})\n",
    "\n",
    "# Define the mapping for borough codes to borough names\n",
    "borough_mapping = {1: 'MANHATTAN', 2: 'BRONX', 3: 'BROOKLYN', 4: 'QUEENS', 5: 'STATEN ISLAND'}\n",
    "\n",
    "# Create a new 'BOROUGH' column based on 'BOROUGH CODE'\n",
    "borough = combined['BOROUGH CODE'].map(borough_mapping)\n",
    "\n",
    "# Insert the new 'BOROUGH' column into the DataFrame right after the 'BOROUGH CODE' column\n",
    "combined.insert(loc=1, column='BOROUGH', value=borough)\n",
    "\n",
    "# Remove rows that contain the string 'N/A'\n",
    "combined = combined[~combined['ADDRESS'].str.contains('N/A')]"
   ]
  },
  {
   "cell_type": "code",
   "execution_count": 10,
   "id": "354596fe",
   "metadata": {},
   "outputs": [],
   "source": [
    "# Write the contents of `combined` to the `sales` SQL table...\n",
    "with engine.connect() as connection:\n",
    "    combined.to_sql('sales', con=engine, index=False, if_exists='replace')"
   ]
  },
  {
   "cell_type": "code",
   "execution_count": 11,
   "id": "25473ee8",
   "metadata": {},
   "outputs": [],
   "source": [
    "# CREATE GEOCODING TABLE & COPY TO SQL TABLE\n",
    "# Template Pandas DataFrame that we use to build the SQL database\n",
    "# using the 'geocoding_data_types_df' data structure we defined above\n",
    "geocodes = pd.DataFrame(columns=helpers.geocoding_data_types_df)"
   ]
  },
  {
   "cell_type": "code",
   "execution_count": 12,
   "id": "c868334b",
   "metadata": {},
   "outputs": [],
   "source": [
    "# Create a table of the geographic information from `combined`\n",
    "geocodingTable = combined[['BOROUGH CODE', 'BOROUGH', 'NEIGHBORHOOD', 'ADDRESS']].copy()\n",
    "geocodingTable['LATITUDE'] = None\n",
    "geocodingTable['LONGITUDE'] = None\n",
    "geocodingTable['GEOCODING ERR'] = False\n",
    "geocodingTable['PRIMARY_KEY'] = geocodingTable['BOROUGH'] + '_' + geocodingTable['ADDRESS']"
   ]
  },
  {
   "cell_type": "code",
   "execution_count": 13,
   "id": "e20808a1",
   "metadata": {},
   "outputs": [],
   "source": [
    "# Load `geocodes_sql_table_name` (`geocodes`) SQL table into a DataFrame\n",
    "geocodes_table_response = pd.read_sql_query(f\"SELECT * FROM {geocodes_sql_table_name}\", engine)\n"
   ]
  },
  {
   "cell_type": "code",
   "execution_count": 14,
   "id": "c290d54c",
   "metadata": {},
   "outputs": [],
   "source": [
    "# FIND rows in NYC not in our 'geocodes table\n",
    "missing_rows = geocodingTable[~geocodingTable['PRIMARY_KEY'].isin(geocodes_table_response['PRIMARY_KEY'])]"
   ]
  },
  {
   "cell_type": "code",
   "execution_count": 16,
   "id": "060502af",
   "metadata": {},
   "outputs": [
    {
     "data": {
      "application/vnd.jupyter.widget-view+json": {
       "model_id": "ac6440284ba048b38ed975b137285356",
       "version_major": 2,
       "version_minor": 0
      },
      "text/plain": [
       "0it [00:00, ?it/s]"
      ]
     },
     "metadata": {},
     "output_type": "display_data"
    }
   ],
   "source": [
    "# Geocode the rows missing from the SQL table `geocodes`\n",
    "tqdm.pandas()\n",
    "missing_rows = missing_rows.progress_apply(helpers.geolocate, axis=1)"
   ]
  },
  {
   "cell_type": "code",
   "execution_count": 17,
   "id": "c015421e",
   "metadata": {},
   "outputs": [],
   "source": [
    "# Set the index on the dataframe so that we ensure we don't have duplicates..\n",
    "missing_rows.set_index('PRIMARY_KEY', inplace=True)"
   ]
  },
  {
   "cell_type": "code",
   "execution_count": 18,
   "id": "0ef86175",
   "metadata": {},
   "outputs": [],
   "source": [
    "# Add the missing rows back to the SQL table w/ the geocodes\n",
    "with engine.connect() as connection:\n",
    "    missing_rows.to_sql(geocodes_sql_table_name, con=engine, if_exists='append', index=True)"
   ]
  },
  {
   "cell_type": "code",
   "execution_count": 19,
   "id": "5e297a12",
   "metadata": {},
   "outputs": [],
   "source": [
    "# Now we can test to see if our append worked\n",
    "with engine.connect() as connection:\n",
    "    geocodes_table_response = pd.read_sql_query(f\"SELECT * FROM {geocodes_sql_table_name}\", engine)\n",
    "\n",
    "missing_rows = geocodingTable[~geocodingTable['PRIMARY_KEY'].isin(geocodes_table_response['PRIMARY_KEY'])]"
   ]
  },
  {
   "cell_type": "code",
   "execution_count": 21,
   "id": "d29c76ba",
   "metadata": {},
   "outputs": [],
   "source": [
    "# merging dataframes on 'BOROUGH' and 'ADDRESS'\n",
    "combined = combined.merge(geocodes_table_response[['BOROUGH', 'ADDRESS', 'LATITUDE', 'LONGITUDE']], \n",
    "                          on=['BOROUGH', 'ADDRESS'], \n",
    "                          how='left', \n",
    "                          suffixes=('', '_y'))\n",
    "\n",
    "# The merge could result in duplicate 'LATITUDE' and 'LONGITUDE' columns if they exist in the `combined` dataframe.\n",
    "# We'll handle this by dropping the duplicate columns.\n",
    "\n",
    "# list of duplicate columns\n",
    "duplicate_columns = ['LATITUDE_y', 'LONGITUDE_y']\n",
    "\n",
    "# drop duplicate columns from `combined`\n",
    "combined = combined.drop(columns=duplicate_columns, errors='ignore')\n"
   ]
  },
  {
   "cell_type": "code",
   "execution_count": 22,
   "id": "539372ec",
   "metadata": {},
   "outputs": [
    {
     "data": {
      "text/html": [
       "<div>\n",
       "<style scoped>\n",
       "    .dataframe tbody tr th:only-of-type {\n",
       "        vertical-align: middle;\n",
       "    }\n",
       "\n",
       "    .dataframe tbody tr th {\n",
       "        vertical-align: top;\n",
       "    }\n",
       "\n",
       "    .dataframe thead th {\n",
       "        text-align: right;\n",
       "    }\n",
       "</style>\n",
       "<table border=\"1\" class=\"dataframe\">\n",
       "  <thead>\n",
       "    <tr style=\"text-align: right;\">\n",
       "      <th></th>\n",
       "      <th>BOROUGH CODE</th>\n",
       "      <th>BOROUGH</th>\n",
       "      <th>NEIGHBORHOOD</th>\n",
       "      <th>BUILDING CLASS CATEGORY</th>\n",
       "      <th>TAX CLASS AT PRESENT</th>\n",
       "      <th>BLOCK</th>\n",
       "      <th>LOT</th>\n",
       "      <th>EASEMENT</th>\n",
       "      <th>BUILDING CLASS AT PRESENT</th>\n",
       "      <th>ADDRESS</th>\n",
       "      <th>...</th>\n",
       "      <th>TOTAL UNITS</th>\n",
       "      <th>LAND SQUARE FEET</th>\n",
       "      <th>GROSS SQUARE FEET</th>\n",
       "      <th>YEAR BUILT</th>\n",
       "      <th>TAX CLASS AT TIME OF SALE</th>\n",
       "      <th>BUILDING CLASS AT TIME OF SALE</th>\n",
       "      <th>SALE PRICE</th>\n",
       "      <th>SALE DATE</th>\n",
       "      <th>LATITUDE</th>\n",
       "      <th>LONGITUDE</th>\n",
       "    </tr>\n",
       "  </thead>\n",
       "  <tbody>\n",
       "    <tr>\n",
       "      <th>1116</th>\n",
       "      <td>1</td>\n",
       "      <td>MANHATTAN</td>\n",
       "      <td>CHELSEA</td>\n",
       "      <td>22 STORE BUILDINGS</td>\n",
       "      <td>4</td>\n",
       "      <td>776</td>\n",
       "      <td>68</td>\n",
       "      <td>nan</td>\n",
       "      <td>K2</td>\n",
       "      <td>254 WEST 27TH STREET</td>\n",
       "      <td>...</td>\n",
       "      <td>2.000000</td>\n",
       "      <td>700.000000</td>\n",
       "      <td>2084.000000</td>\n",
       "      <td>1930.000000</td>\n",
       "      <td>4</td>\n",
       "      <td>K2</td>\n",
       "      <td>2165000</td>\n",
       "      <td>2022-09-30</td>\n",
       "      <td>40.747487</td>\n",
       "      <td>-73.996306</td>\n",
       "    </tr>\n",
       "    <tr>\n",
       "      <th>1940</th>\n",
       "      <td>1</td>\n",
       "      <td>MANHATTAN</td>\n",
       "      <td>EAST VILLAGE</td>\n",
       "      <td>07 RENTALS - WALKUP APARTMENTS</td>\n",
       "      <td>2A</td>\n",
       "      <td>465</td>\n",
       "      <td>45</td>\n",
       "      <td>nan</td>\n",
       "      <td>C3</td>\n",
       "      <td>46 STUYVESANT STREET, 1</td>\n",
       "      <td>...</td>\n",
       "      <td>4.000000</td>\n",
       "      <td>794.000000</td>\n",
       "      <td>3244.000000</td>\n",
       "      <td>1900.000000</td>\n",
       "      <td>2</td>\n",
       "      <td>C3</td>\n",
       "      <td>1800000</td>\n",
       "      <td>2022-07-27</td>\n",
       "      <td>40.729864</td>\n",
       "      <td>-73.987530</td>\n",
       "    </tr>\n",
       "    <tr>\n",
       "      <th>5068</th>\n",
       "      <td>1</td>\n",
       "      <td>MANHATTAN</td>\n",
       "      <td>HARLEM-CENTRAL</td>\n",
       "      <td>01 ONE FAMILY DWELLINGS</td>\n",
       "      <td>1</td>\n",
       "      <td>1721</td>\n",
       "      <td>27</td>\n",
       "      <td>nan</td>\n",
       "      <td>A5</td>\n",
       "      <td>20 WEST 123 STREET</td>\n",
       "      <td>...</td>\n",
       "      <td>1.000000</td>\n",
       "      <td>1640.000000</td>\n",
       "      <td>3200.000000</td>\n",
       "      <td>1899.000000</td>\n",
       "      <td>1</td>\n",
       "      <td>A5</td>\n",
       "      <td>2257500</td>\n",
       "      <td>2022-07-28</td>\n",
       "      <td>nan</td>\n",
       "      <td>nan</td>\n",
       "    </tr>\n",
       "    <tr>\n",
       "      <th>5071</th>\n",
       "      <td>1</td>\n",
       "      <td>MANHATTAN</td>\n",
       "      <td>HARLEM-CENTRAL</td>\n",
       "      <td>01 ONE FAMILY DWELLINGS</td>\n",
       "      <td>1</td>\n",
       "      <td>1770</td>\n",
       "      <td>75</td>\n",
       "      <td>nan</td>\n",
       "      <td>A9</td>\n",
       "      <td>2 SYLVAN COURT</td>\n",
       "      <td>...</td>\n",
       "      <td>1.000000</td>\n",
       "      <td>682.000000</td>\n",
       "      <td>1512.000000</td>\n",
       "      <td>1899.000000</td>\n",
       "      <td>1</td>\n",
       "      <td>A9</td>\n",
       "      <td>1700000</td>\n",
       "      <td>2022-05-02</td>\n",
       "      <td>40.801654</td>\n",
       "      <td>-73.938620</td>\n",
       "    </tr>\n",
       "    <tr>\n",
       "      <th>5079</th>\n",
       "      <td>1</td>\n",
       "      <td>MANHATTAN</td>\n",
       "      <td>HARLEM-CENTRAL</td>\n",
       "      <td>01 ONE FAMILY DWELLINGS</td>\n",
       "      <td>1</td>\n",
       "      <td>2024</td>\n",
       "      <td>129</td>\n",
       "      <td>nan</td>\n",
       "      <td>A9</td>\n",
       "      <td>2362 ADAM C POWELL BLVD</td>\n",
       "      <td>...</td>\n",
       "      <td>1.000000</td>\n",
       "      <td>1243.000000</td>\n",
       "      <td>4112.000000</td>\n",
       "      <td>1901.000000</td>\n",
       "      <td>1</td>\n",
       "      <td>A9</td>\n",
       "      <td>2295000</td>\n",
       "      <td>2022-06-21</td>\n",
       "      <td>40.817508</td>\n",
       "      <td>-73.942538</td>\n",
       "    </tr>\n",
       "    <tr>\n",
       "      <th>...</th>\n",
       "      <td>...</td>\n",
       "      <td>...</td>\n",
       "      <td>...</td>\n",
       "      <td>...</td>\n",
       "      <td>...</td>\n",
       "      <td>...</td>\n",
       "      <td>...</td>\n",
       "      <td>...</td>\n",
       "      <td>...</td>\n",
       "      <td>...</td>\n",
       "      <td>...</td>\n",
       "      <td>...</td>\n",
       "      <td>...</td>\n",
       "      <td>...</td>\n",
       "      <td>...</td>\n",
       "      <td>...</td>\n",
       "      <td>...</td>\n",
       "      <td>...</td>\n",
       "      <td>...</td>\n",
       "      <td>...</td>\n",
       "      <td>...</td>\n",
       "    </tr>\n",
       "    <tr>\n",
       "      <th>85746</th>\n",
       "      <td>5</td>\n",
       "      <td>STATEN ISLAND</td>\n",
       "      <td>WOODROW</td>\n",
       "      <td>02 TWO FAMILY DWELLINGS</td>\n",
       "      <td>1</td>\n",
       "      <td>7316</td>\n",
       "      <td>91</td>\n",
       "      <td>nan</td>\n",
       "      <td>B9</td>\n",
       "      <td>127 DARNELL LANE</td>\n",
       "      <td>...</td>\n",
       "      <td>2.000000</td>\n",
       "      <td>2997.000000</td>\n",
       "      <td>1300.000000</td>\n",
       "      <td>1995.000000</td>\n",
       "      <td>1</td>\n",
       "      <td>B9</td>\n",
       "      <td>760000</td>\n",
       "      <td>2022-05-09</td>\n",
       "      <td>40.535745</td>\n",
       "      <td>-74.222649</td>\n",
       "    </tr>\n",
       "    <tr>\n",
       "      <th>85747</th>\n",
       "      <td>5</td>\n",
       "      <td>STATEN ISLAND</td>\n",
       "      <td>WOODROW</td>\n",
       "      <td>02 TWO FAMILY DWELLINGS</td>\n",
       "      <td>1</td>\n",
       "      <td>7317</td>\n",
       "      <td>28</td>\n",
       "      <td>nan</td>\n",
       "      <td>B9</td>\n",
       "      <td>36 MANDY COURT</td>\n",
       "      <td>...</td>\n",
       "      <td>2.000000</td>\n",
       "      <td>2379.000000</td>\n",
       "      <td>1760.000000</td>\n",
       "      <td>1998.000000</td>\n",
       "      <td>1</td>\n",
       "      <td>B9</td>\n",
       "      <td>695000</td>\n",
       "      <td>2022-09-02</td>\n",
       "      <td>40.537036</td>\n",
       "      <td>-74.218932</td>\n",
       "    </tr>\n",
       "    <tr>\n",
       "      <th>85748</th>\n",
       "      <td>5</td>\n",
       "      <td>STATEN ISLAND</td>\n",
       "      <td>WOODROW</td>\n",
       "      <td>02 TWO FAMILY DWELLINGS</td>\n",
       "      <td>1</td>\n",
       "      <td>7317</td>\n",
       "      <td>145</td>\n",
       "      <td>nan</td>\n",
       "      <td>B9</td>\n",
       "      <td>48 ROBIN COURT</td>\n",
       "      <td>...</td>\n",
       "      <td>2.000000</td>\n",
       "      <td>3147.000000</td>\n",
       "      <td>2400.000000</td>\n",
       "      <td>1994.000000</td>\n",
       "      <td>1</td>\n",
       "      <td>B9</td>\n",
       "      <td>625000</td>\n",
       "      <td>2022-08-02</td>\n",
       "      <td>40.536586</td>\n",
       "      <td>-74.222383</td>\n",
       "    </tr>\n",
       "    <tr>\n",
       "      <th>85749</th>\n",
       "      <td>5</td>\n",
       "      <td>STATEN ISLAND</td>\n",
       "      <td>WOODROW</td>\n",
       "      <td>02 TWO FAMILY DWELLINGS</td>\n",
       "      <td>1</td>\n",
       "      <td>7319</td>\n",
       "      <td>1</td>\n",
       "      <td>nan</td>\n",
       "      <td>B2</td>\n",
       "      <td>434 BLOOMINGDALE ROAD</td>\n",
       "      <td>...</td>\n",
       "      <td>2.000000</td>\n",
       "      <td>4600.000000</td>\n",
       "      <td>1176.000000</td>\n",
       "      <td>2010.000000</td>\n",
       "      <td>1</td>\n",
       "      <td>B2</td>\n",
       "      <td>975000</td>\n",
       "      <td>2022-09-06</td>\n",
       "      <td>40.535577</td>\n",
       "      <td>-74.218552</td>\n",
       "    </tr>\n",
       "    <tr>\n",
       "      <th>85752</th>\n",
       "      <td>5</td>\n",
       "      <td>STATEN ISLAND</td>\n",
       "      <td>WOODROW</td>\n",
       "      <td>02 TWO FAMILY DWELLINGS</td>\n",
       "      <td>1</td>\n",
       "      <td>7349</td>\n",
       "      <td>95</td>\n",
       "      <td>nan</td>\n",
       "      <td>B9</td>\n",
       "      <td>377 ENGLEWOOD AVENUE</td>\n",
       "      <td>...</td>\n",
       "      <td>2.000000</td>\n",
       "      <td>3728.000000</td>\n",
       "      <td>1960.000000</td>\n",
       "      <td>1999.000000</td>\n",
       "      <td>1</td>\n",
       "      <td>B9</td>\n",
       "      <td>790000</td>\n",
       "      <td>2022-12-23</td>\n",
       "      <td>40.532316</td>\n",
       "      <td>-74.222781</td>\n",
       "    </tr>\n",
       "  </tbody>\n",
       "</table>\n",
       "<p>20960 rows × 24 columns</p>\n",
       "</div>"
      ],
      "text/plain": [
       "       BOROUGH CODE        BOROUGH    NEIGHBORHOOD  \\\n",
       "1116              1      MANHATTAN         CHELSEA   \n",
       "1940              1      MANHATTAN    EAST VILLAGE   \n",
       "5068              1      MANHATTAN  HARLEM-CENTRAL   \n",
       "5071              1      MANHATTAN  HARLEM-CENTRAL   \n",
       "5079              1      MANHATTAN  HARLEM-CENTRAL   \n",
       "...             ...            ...             ...   \n",
       "85746             5  STATEN ISLAND         WOODROW   \n",
       "85747             5  STATEN ISLAND         WOODROW   \n",
       "85748             5  STATEN ISLAND         WOODROW   \n",
       "85749             5  STATEN ISLAND         WOODROW   \n",
       "85752             5  STATEN ISLAND         WOODROW   \n",
       "\n",
       "              BUILDING CLASS CATEGORY TAX CLASS AT PRESENT  BLOCK  LOT  \\\n",
       "1116               22 STORE BUILDINGS                    4    776   68   \n",
       "1940   07 RENTALS - WALKUP APARTMENTS                   2A    465   45   \n",
       "5068          01 ONE FAMILY DWELLINGS                    1   1721   27   \n",
       "5071          01 ONE FAMILY DWELLINGS                    1   1770   75   \n",
       "5079          01 ONE FAMILY DWELLINGS                    1   2024  129   \n",
       "...                               ...                  ...    ...  ...   \n",
       "85746         02 TWO FAMILY DWELLINGS                    1   7316   91   \n",
       "85747         02 TWO FAMILY DWELLINGS                    1   7317   28   \n",
       "85748         02 TWO FAMILY DWELLINGS                    1   7317  145   \n",
       "85749         02 TWO FAMILY DWELLINGS                    1   7319    1   \n",
       "85752         02 TWO FAMILY DWELLINGS                    1   7349   95   \n",
       "\n",
       "       EASEMENT BUILDING CLASS AT PRESENT                  ADDRESS  ...  \\\n",
       "1116        nan                        K2     254 WEST 27TH STREET  ...   \n",
       "1940        nan                        C3  46 STUYVESANT STREET, 1  ...   \n",
       "5068        nan                        A5       20 WEST 123 STREET  ...   \n",
       "5071        nan                        A9           2 SYLVAN COURT  ...   \n",
       "5079        nan                        A9  2362 ADAM C POWELL BLVD  ...   \n",
       "...         ...                       ...                      ...  ...   \n",
       "85746       nan                        B9         127 DARNELL LANE  ...   \n",
       "85747       nan                        B9           36 MANDY COURT  ...   \n",
       "85748       nan                        B9           48 ROBIN COURT  ...   \n",
       "85749       nan                        B2    434 BLOOMINGDALE ROAD  ...   \n",
       "85752       nan                        B9     377 ENGLEWOOD AVENUE  ...   \n",
       "\n",
       "      TOTAL UNITS  LAND SQUARE FEET  GROSS SQUARE FEET  YEAR BUILT  \\\n",
       "1116     2.000000        700.000000        2084.000000 1930.000000   \n",
       "1940     4.000000        794.000000        3244.000000 1900.000000   \n",
       "5068     1.000000       1640.000000        3200.000000 1899.000000   \n",
       "5071     1.000000        682.000000        1512.000000 1899.000000   \n",
       "5079     1.000000       1243.000000        4112.000000 1901.000000   \n",
       "...           ...               ...                ...         ...   \n",
       "85746    2.000000       2997.000000        1300.000000 1995.000000   \n",
       "85747    2.000000       2379.000000        1760.000000 1998.000000   \n",
       "85748    2.000000       3147.000000        2400.000000 1994.000000   \n",
       "85749    2.000000       4600.000000        1176.000000 2010.000000   \n",
       "85752    2.000000       3728.000000        1960.000000 1999.000000   \n",
       "\n",
       "       TAX CLASS AT TIME OF SALE  BUILDING CLASS AT TIME OF SALE  SALE PRICE  \\\n",
       "1116                           4                              K2     2165000   \n",
       "1940                           2                              C3     1800000   \n",
       "5068                           1                              A5     2257500   \n",
       "5071                           1                              A9     1700000   \n",
       "5079                           1                              A9     2295000   \n",
       "...                          ...                             ...         ...   \n",
       "85746                          1                              B9      760000   \n",
       "85747                          1                              B9      695000   \n",
       "85748                          1                              B9      625000   \n",
       "85749                          1                              B2      975000   \n",
       "85752                          1                              B9      790000   \n",
       "\n",
       "       SALE DATE  LATITUDE  LONGITUDE  \n",
       "1116  2022-09-30 40.747487 -73.996306  \n",
       "1940  2022-07-27 40.729864 -73.987530  \n",
       "5068  2022-07-28       nan        nan  \n",
       "5071  2022-05-02 40.801654 -73.938620  \n",
       "5079  2022-06-21 40.817508 -73.942538  \n",
       "...          ...       ...        ...  \n",
       "85746 2022-05-09 40.535745 -74.222649  \n",
       "85747 2022-09-02 40.537036 -74.218932  \n",
       "85748 2022-08-02 40.536586 -74.222383  \n",
       "85749 2022-09-06 40.535577 -74.218552  \n",
       "85752 2022-12-23 40.532316 -74.222781  \n",
       "\n",
       "[20960 rows x 24 columns]"
      ]
     },
     "execution_count": 22,
     "metadata": {},
     "output_type": "execute_result"
    }
   ],
   "source": [
    "# Define thresholds for \"close to zero\"\n",
    "thresholds = {\n",
    "    'SALE PRICE': 100000,\n",
    "    'GROSS SQUARE FEET': 100,\n",
    "    'LAND SQUARE FEET': 100\n",
    "}\n",
    "\n",
    "#Remove rows with values \"close to zero\"\n",
    "data_clean = combined.copy()\n",
    "for col, threshold in thresholds.items():\n",
    "    data_clean = data_clean[data_clean[col] >= threshold]\n",
    "\n",
    "# List of columns to remove outliers from\n",
    "cols_to_check = list(thresholds.keys())\n",
    "\n",
    "# Remove outliers\n",
    "for col in cols_to_check:\n",
    "    # Calculate the IQR of the column\n",
    "    Q1 = data_clean[col].quantile(0.25)\n",
    "    Q3 = data_clean[col].quantile(0.75)\n",
    "    IQR = Q3 - Q1\n",
    "\n",
    "    # Define the upper and lower bounds for outliers\n",
    "    lower_bound = Q1 - 1.5 * IQR\n",
    "    upper_bound = Q3 + 1.5 * IQR\n",
    "\n",
    "    # Remove outliers\n",
    "    data_clean = data_clean[(data_clean[col] >= lower_bound) & (data_clean[col] <= upper_bound)]\n",
    "\n",
    "data_clean"
   ]
  },
  {
   "cell_type": "code",
   "execution_count": 23,
   "id": "cdbd2cf7",
   "metadata": {},
   "outputs": [
    {
     "data": {
      "image/png": "[encoded data removed]",
      "text/plain": [
       "<Figure size 1080x360 with 3 Axes>"
      ]
     },
     "metadata": {
      "needs_background": "light"
     },
     "output_type": "display_data"
    }
   ],
   "source": [
    "# Create histograms for each column\n",
    "fig, axs = plt.subplots(1, len(cols_to_check), figsize=(15, 5))\n",
    "\n",
    "# Create histograms for each column\n",
    "for i, col in enumerate(cols_to_check):\n",
    "    axs[i].hist(data_clean[col].dropna(), bins=30, edgecolor='black')\n",
    "    axs[i].set_title(f'{col}')\n",
    "\n",
    "# Tight layout\n",
    "plt.tight_layout()\n",
    "plt.show()"
   ]
  },
  {
   "cell_type": "code",
   "execution_count": 24,
   "id": "1cc083c3",
   "metadata": {},
   "outputs": [
    {
     "name": "stdout",
     "output_type": "stream",
     "text": [
      "Warning: some categories were not be mapped, those rows were dropped.\n"
     ]
    }
   ],
   "source": [
    "# --------------- ADDING INTERMEDIARY BUILDING CATEGORIES -------------------\n",
    "# Reset\n",
    "# combined.to_csv('sales.csv', index=False)\n",
    "combined = data_clean\n",
    "\n",
    "# HELPERS\n",
    "import importlib\n",
    "importlib.reload(helpers)\n",
    "\n",
    "# FEATURE ENGINEERING\n",
    "\n",
    "# First, create the inverted mapping dictionary, as before\n",
    "invert_mapping = {building_class: zillow_cat for zillow_cat, building_class_list in helpers.intermediary_mapping.items() for building_class in building_class_list}\n",
    "\n",
    "# Then, use the map function to create the new column\n",
    "combined['GROUPED CATEGORY'] = combined['BUILDING CLASS CATEGORY'].map(invert_mapping)\n",
    "\n",
    "# Check if there are any missing values in the new column (i.e., categories that couldn't be mapped)\n",
    "if combined['GROUPED CATEGORY'].isna().any():\n",
    "    combined = combined.dropna(subset=['GROUPED CATEGORY'])\n",
    "    print(\"Warning: some categories were not be mapped, those rows were dropped.\")\n",
    "\n",
    "combined.to_csv('for_model.csv', index=False)"
   ]
  },
  {
   "cell_type": "markdown",
   "id": "fb6dcb4a",
   "metadata": {},
   "source": [
    "# Feature Engineering"
   ]
  },
  {
   "cell_type": "code",
   "execution_count": 25,
   "id": "1672322e",
   "metadata": {},
   "outputs": [
    {
     "data": {
      "text/plain": [
       "BOROUGH CODE           0\n",
       "GROSS SQUARE FEET      0\n",
       "LAND SQUARE FEET       0\n",
       "GROUPED CATEGORY       0\n",
       "LATITUDE             814\n",
       "LONGITUDE            814\n",
       "SALE PRICE             0\n",
       "dtype: int64"
      ]
     },
     "execution_count": 25,
     "metadata": {},
     "output_type": "execute_result"
    }
   ],
   "source": [
    "# Select the features we are interested in\n",
    "selected_features = ['BOROUGH CODE', #'ZIP CODE',\n",
    "                     'GROSS SQUARE FEET', 'LAND SQUARE FEET', 'GROUPED CATEGORY', \n",
    "                     'LATITUDE', 'LONGITUDE', 'SALE PRICE']\n",
    "\n",
    "# Create a new DataFrame with only these features\n",
    "df = combined[selected_features]\n",
    "\n",
    "# Check for missing values\n",
    "df.isnull().sum()"
   ]
  },
  {
   "cell_type": "code",
   "execution_count": 26,
   "id": "f006c294",
   "metadata": {},
   "outputs": [
    {
     "data": {
      "text/plain": [
       "BOROUGH CODE         0\n",
       "GROSS SQUARE FEET    0\n",
       "LAND SQUARE FEET     0\n",
       "GROUPED CATEGORY     0\n",
       "LATITUDE             0\n",
       "LONGITUDE            0\n",
       "SALE PRICE           0\n",
       "dtype: int64"
      ]
     },
     "execution_count": 26,
     "metadata": {},
     "output_type": "execute_result"
    }
   ],
   "source": [
    "# Drop rows with missing latitude or longitude\n",
    "df = df.dropna(subset=['LATITUDE', 'LONGITUDE'])\n",
    "\n",
    "# Check again for missing values\n",
    "df.isnull().sum()"
   ]
  },
  {
   "cell_type": "markdown",
   "id": "ce75ecf5",
   "metadata": {},
   "source": [
    "## One-hot encoding using an encoder, not `get_dummies`"
   ]
  },
  {
   "cell_type": "code",
   "execution_count": 27,
   "id": "7df16fc2",
   "metadata": {},
   "outputs": [],
   "source": [
    "# Define the columns to be scaled and one-hot encoded\n",
    "cols_to_encode = ['BOROUGH CODE','GROUPED CATEGORY']\n",
    "\n",
    "cols_to_scale = ['GROSS SQUARE FEET',\n",
    "                 'LAND SQUARE FEET',\n",
    "                 'LATITUDE',\n",
    "                 'LONGITUDE',\n",
    "                 'SALE PRICE']\n",
    "\n",
    "# Initialize the transformers\n",
    "scaler = StandardScaler()\n",
    "ohe = OneHotEncoder(sparse=False)\n",
    "\n",
    "# Define the preprocessor\n",
    "preprocessor = ColumnTransformer(\n",
    "    transformers=[\n",
    "        ('scale', scaler, cols_to_scale),\n",
    "        ('ohe', ohe, cols_to_encode)])\n",
    "\n",
    "# Apply the transformations\n",
    "df_processed = preprocessor.fit_transform(df)\n",
    "\n",
    "# Get the feature names after one-hot encoding\n",
    "ohe_feature_names = list(preprocessor.named_transformers_['ohe'].get_feature_names(input_features=cols_to_encode))\n",
    "\n",
    "# Combine the feature names\n",
    "feature_names = cols_to_scale + ohe_feature_names\n",
    "\n",
    "# Convert the array back into a DataFrame\n",
    "df_processed = pd.DataFrame(df_processed, columns=feature_names)\n",
    "\n",
    "# Drop rows with NaN values\n",
    "df_processed = df_processed.dropna()\n",
    "\n",
    "# Display the first few rows of the processed DataFrame\n",
    "df_processed.head()\n",
    "\n",
    "df_encoded = df_processed\n"
   ]
  },
  {
   "cell_type": "code",
   "execution_count": 28,
   "id": "0d6d6087",
   "metadata": {},
   "outputs": [
    {
     "data": {
      "text/html": [
       "<div>\n",
       "<style scoped>\n",
       "    .dataframe tbody tr th:only-of-type {\n",
       "        vertical-align: middle;\n",
       "    }\n",
       "\n",
       "    .dataframe tbody tr th {\n",
       "        vertical-align: top;\n",
       "    }\n",
       "\n",
       "    .dataframe thead th {\n",
       "        text-align: right;\n",
       "    }\n",
       "</style>\n",
       "<table border=\"1\" class=\"dataframe\">\n",
       "  <thead>\n",
       "    <tr style=\"text-align: right;\">\n",
       "      <th></th>\n",
       "      <th>GROSS SQUARE FEET</th>\n",
       "      <th>LAND SQUARE FEET</th>\n",
       "      <th>LATITUDE</th>\n",
       "      <th>LONGITUDE</th>\n",
       "      <th>SALE PRICE</th>\n",
       "      <th>BOROUGH CODE_1</th>\n",
       "      <th>BOROUGH CODE_2</th>\n",
       "      <th>BOROUGH CODE_3</th>\n",
       "      <th>BOROUGH CODE_4</th>\n",
       "      <th>BOROUGH CODE_5</th>\n",
       "      <th>GROUPED CATEGORY_Apartment</th>\n",
       "      <th>GROUPED CATEGORY_Duplex</th>\n",
       "      <th>GROUPED CATEGORY_Multi-family home</th>\n",
       "      <th>GROUPED CATEGORY_Single-family home</th>\n",
       "    </tr>\n",
       "  </thead>\n",
       "  <tbody>\n",
       "    <tr>\n",
       "      <th>0</th>\n",
       "      <td>1.807620</td>\n",
       "      <td>-1.747898</td>\n",
       "      <td>0.503381</td>\n",
       "      <td>-0.524852</td>\n",
       "      <td>2.256668</td>\n",
       "      <td>1.000000</td>\n",
       "      <td>0.000000</td>\n",
       "      <td>0.000000</td>\n",
       "      <td>0.000000</td>\n",
       "      <td>0.000000</td>\n",
       "      <td>1.000000</td>\n",
       "      <td>0.000000</td>\n",
       "      <td>0.000000</td>\n",
       "      <td>0.000000</td>\n",
       "    </tr>\n",
       "    <tr>\n",
       "      <th>1</th>\n",
       "      <td>-0.546875</td>\n",
       "      <td>-1.843320</td>\n",
       "      <td>1.325304</td>\n",
       "      <td>-0.146977</td>\n",
       "      <td>2.007021</td>\n",
       "      <td>1.000000</td>\n",
       "      <td>0.000000</td>\n",
       "      <td>0.000000</td>\n",
       "      <td>0.000000</td>\n",
       "      <td>0.000000</td>\n",
       "      <td>0.000000</td>\n",
       "      <td>0.000000</td>\n",
       "      <td>0.000000</td>\n",
       "      <td>1.000000</td>\n",
       "    </tr>\n",
       "    <tr>\n",
       "      <th>2</th>\n",
       "      <td>2.987586</td>\n",
       "      <td>-1.365357</td>\n",
       "      <td>1.506808</td>\n",
       "      <td>-0.177242</td>\n",
       "      <td>3.492416</td>\n",
       "      <td>1.000000</td>\n",
       "      <td>0.000000</td>\n",
       "      <td>0.000000</td>\n",
       "      <td>0.000000</td>\n",
       "      <td>0.000000</td>\n",
       "      <td>0.000000</td>\n",
       "      <td>0.000000</td>\n",
       "      <td>0.000000</td>\n",
       "      <td>1.000000</td>\n",
       "    </tr>\n",
       "    <tr>\n",
       "      <th>3</th>\n",
       "      <td>2.101252</td>\n",
       "      <td>-1.005820</td>\n",
       "      <td>1.458477</td>\n",
       "      <td>-0.206512</td>\n",
       "      <td>3.255252</td>\n",
       "      <td>1.000000</td>\n",
       "      <td>0.000000</td>\n",
       "      <td>0.000000</td>\n",
       "      <td>0.000000</td>\n",
       "      <td>0.000000</td>\n",
       "      <td>0.000000</td>\n",
       "      <td>1.000000</td>\n",
       "      <td>0.000000</td>\n",
       "      <td>0.000000</td>\n",
       "    </tr>\n",
       "    <tr>\n",
       "      <th>4</th>\n",
       "      <td>0.684749</td>\n",
       "      <td>-0.827755</td>\n",
       "      <td>1.403374</td>\n",
       "      <td>-0.184870</td>\n",
       "      <td>3.380075</td>\n",
       "      <td>1.000000</td>\n",
       "      <td>0.000000</td>\n",
       "      <td>0.000000</td>\n",
       "      <td>0.000000</td>\n",
       "      <td>0.000000</td>\n",
       "      <td>0.000000</td>\n",
       "      <td>0.000000</td>\n",
       "      <td>1.000000</td>\n",
       "      <td>0.000000</td>\n",
       "    </tr>\n",
       "  </tbody>\n",
       "</table>\n",
       "</div>"
      ],
      "text/plain": [
       "   GROSS SQUARE FEET  LAND SQUARE FEET  LATITUDE  LONGITUDE  SALE PRICE  \\\n",
       "0           1.807620         -1.747898  0.503381  -0.524852    2.256668   \n",
       "1          -0.546875         -1.843320  1.325304  -0.146977    2.007021   \n",
       "2           2.987586         -1.365357  1.506808  -0.177242    3.492416   \n",
       "3           2.101252         -1.005820  1.458477  -0.206512    3.255252   \n",
       "4           0.684749         -0.827755  1.403374  -0.184870    3.380075   \n",
       "\n",
       "   BOROUGH CODE_1  BOROUGH CODE_2  BOROUGH CODE_3  BOROUGH CODE_4  \\\n",
       "0        1.000000        0.000000        0.000000        0.000000   \n",
       "1        1.000000        0.000000        0.000000        0.000000   \n",
       "2        1.000000        0.000000        0.000000        0.000000   \n",
       "3        1.000000        0.000000        0.000000        0.000000   \n",
       "4        1.000000        0.000000        0.000000        0.000000   \n",
       "\n",
       "   BOROUGH CODE_5  GROUPED CATEGORY_Apartment  GROUPED CATEGORY_Duplex  \\\n",
       "0        0.000000                    1.000000                 0.000000   \n",
       "1        0.000000                    0.000000                 0.000000   \n",
       "2        0.000000                    0.000000                 0.000000   \n",
       "3        0.000000                    0.000000                 1.000000   \n",
       "4        0.000000                    0.000000                 0.000000   \n",
       "\n",
       "   GROUPED CATEGORY_Multi-family home  GROUPED CATEGORY_Single-family home  \n",
       "0                            0.000000                             0.000000  \n",
       "1                            0.000000                             1.000000  \n",
       "2                            0.000000                             1.000000  \n",
       "3                            0.000000                             0.000000  \n",
       "4                            1.000000                             0.000000  "
      ]
     },
     "execution_count": 28,
     "metadata": {},
     "output_type": "execute_result"
    }
   ],
   "source": [
    "df_processed.head()"
   ]
  },
  {
   "cell_type": "code",
   "execution_count": 29,
   "id": "4d41c4cc",
   "metadata": {},
   "outputs": [
    {
     "name": "stdout",
     "output_type": "stream",
     "text": [
      "   GROSS SQUARE FEET  LAND SQUARE FEET  LATITUDE  LONGITUDE  SALE PRICE  \\\n",
      "0           1.807620         -1.747898  0.503381  -0.524852    2.256668   \n",
      "1          -0.546875         -1.843320  1.325304  -0.146977    2.007021   \n",
      "2           2.987586         -1.365357  1.506808  -0.177242    3.492416   \n",
      "\n",
      "   BOROUGH CODE_1  BOROUGH CODE_2  BOROUGH CODE_3  BOROUGH CODE_4  \\\n",
      "0        1.000000        0.000000        0.000000        0.000000   \n",
      "1        1.000000        0.000000        0.000000        0.000000   \n",
      "2        1.000000        0.000000        0.000000        0.000000   \n",
      "\n",
      "   BOROUGH CODE_5  GROUPED CATEGORY_Apartment  GROUPED CATEGORY_Duplex  \\\n",
      "0        0.000000                    1.000000                 0.000000   \n",
      "1        0.000000                    0.000000                 0.000000   \n",
      "2        0.000000                    0.000000                 0.000000   \n",
      "\n",
      "   GROUPED CATEGORY_Multi-family home  GROUPED CATEGORY_Single-family home  \n",
      "0                            0.000000                             0.000000  \n",
      "1                            0.000000                             1.000000  \n",
      "2                            0.000000                             1.000000  \n"
     ]
    }
   ],
   "source": [
    "print(df_encoded.head(3))"
   ]
  },
  {
   "cell_type": "code",
   "execution_count": 30,
   "id": "35226f72",
   "metadata": {},
   "outputs": [
    {
     "data": {
      "text/plain": [
       "((15758, 13), (3940, 13))"
      ]
     },
     "execution_count": 30,
     "metadata": {},
     "output_type": "execute_result"
    }
   ],
   "source": [
    "# Split the data into features and target\n",
    "X = df_encoded.drop('SALE PRICE', axis=1)\n",
    "y = df_encoded['SALE PRICE']\n",
    "\n",
    "# Split the data into training and test sets\n",
    "X_train, X_test, y_train, y_test = train_test_split(X, y, test_size=0.2, random_state=42)\n",
    "\n",
    "# Scale the features\n",
    "X_train_scaled = X_train\n",
    "X_test_scaled = X_test\n",
    "\n",
    "X_train_scaled.shape, X_test_scaled.shape"
   ]
  },
  {
   "cell_type": "code",
   "execution_count": null,
   "id": "e5053ad7",
   "metadata": {},
   "outputs": [],
   "source": []
  },
  {
   "cell_type": "markdown",
   "id": "bc24ed3f",
   "metadata": {},
   "source": [
    "# Random forest model"
   ]
  },
  {
   "cell_type": "code",
   "execution_count": 31,
   "id": "be063865",
   "metadata": {},
   "outputs": [
    {
     "data": {
      "text/plain": [
       "(0.3606812835980591, 0.4331544730180957)"
      ]
     },
     "execution_count": 31,
     "metadata": {},
     "output_type": "execute_result"
    }
   ],
   "source": [
    "# Define the model\n",
    "model = RandomForestRegressor(n_estimators=200, max_depth=10, random_state=42)\n",
    "\n",
    "# Train the model\n",
    "model.fit(X_train_scaled, y_train)\n",
    "\n",
    "# Make predictions on the training set and calculate the MAE\n",
    "y_train_pred = model.predict(X_train_scaled)\n",
    "mae_train = mean_absolute_error(y_train, y_train_pred)\n",
    "\n",
    "# Make predictions on the test set and calculate the MAE\n",
    "y_test_pred = model.predict(X_test_scaled)\n",
    "mae_test = mean_absolute_error(y_test, y_test_pred)\n",
    "\n",
    "mae_train, mae_test"
   ]
  },
  {
   "cell_type": "markdown",
   "id": "18567166",
   "metadata": {},
   "source": [
    "# Packaging up the model"
   ]
  },
  {
   "cell_type": "code",
   "execution_count": 33,
   "id": "bd2dd27e",
   "metadata": {},
   "outputs": [
    {
     "data": {
      "text/plain": [
       "['model/model.joblib']"
      ]
     },
     "execution_count": 33,
     "metadata": {},
     "output_type": "execute_result"
    }
   ],
   "source": [
    "# Dump the model to a shared docker volume...\n",
    "joblib.dump(model, 'model/model.joblib')"
   ]
  },
  {
   "cell_type": "code",
   "execution_count": 34,
   "id": "f8256686",
   "metadata": {
    "scrolled": true
   },
   "outputs": [
    {
     "data": {
      "text/plain": [
       "['./model/preprocessor.joblib']"
      ]
     },
     "execution_count": 34,
     "metadata": {},
     "output_type": "execute_result"
    }
   ],
   "source": [
    "# Save the model\n",
    "joblib.dump(model, 'model.joblib')\n",
    "# Save the preprocessor\n",
    "joblib.dump(preprocessor, 'preprocessor.joblib')\n",
    "\n",
    "# Save the model\n",
    "joblib.dump(model, './model/model.joblib')\n",
    "# Save the preprocessor\n",
    "joblib.dump(preprocessor, './model/preprocessor.joblib')"
   ]
  },
  {
   "cell_type": "markdown",
   "id": "4660ca4b",
   "metadata": {},
   "source": [
    "# Dummy API Testing "
   ]
  },
  {
   "cell_type": "markdown",
   "id": "15271c31",
   "metadata": {},
   "source": [
    "### This will only work on a detached kernel in real life"
   ]
  },
  {
   "cell_type": "code",
   "execution_count": null,
   "id": "6cc86479",
   "metadata": {},
   "outputs": [],
   "source": [
    "data = {\n",
    "    'BOROUGH CODE': 1,\n",
    "    'GROUPED CATEGORY': 'Single-family home',\n",
    "    'GROSS SQUARE FEET': 1000,\n",
    "    'LAND SQUARE FEET': 500,\n",
    "    'LATITUDE': 40.7128,\n",
    "    'LONGITUDE': -74.0060,\n",
    "    'SALE PRICE': 0\n",
    "}"
   ]
  },
  {
   "cell_type": "code",
   "execution_count": null,
   "id": "317393f8",
   "metadata": {},
   "outputs": [],
   "source": [
    "model = joblib.load(\"./model/model.joblib\")\n",
    "encoder = joblib.load(\"./model/preprocessor.joblib\")"
   ]
  },
  {
   "cell_type": "code",
   "execution_count": null,
   "id": "b25caf15",
   "metadata": {},
   "outputs": [],
   "source": [
    "dummy_api_df = pd.DataFrame([data], columns=df.columns)"
   ]
  },
  {
   "cell_type": "code",
   "execution_count": null,
   "id": "7afca05c",
   "metadata": {},
   "outputs": [],
   "source": [
    "encoded_features = encoder.transform(dummy_api_df)\n",
    "encoded_features = np.delete(encoded_features, 4, axis=1)"
   ]
  },
  {
   "cell_type": "code",
   "execution_count": null,
   "id": "17b27856",
   "metadata": {},
   "outputs": [],
   "source": [
    "prediction = model.predict(encoded_features)\n",
    "encoder.transformers_[0][1].inverse_transform([0,0,0,0,prediction[0]])[4]"
   ]
  },
  {
   "cell_type": "code",
   "execution_count": null,
   "id": "06f76d89",
   "metadata": {},
   "outputs": [],
   "source": [
    "df_cols = pd.DataFrame(columns=['BOROUGH CODE', 'GROSS SQUARE FEET', 'LAND SQUARE FEET',\n",
    "       'GROUPED CATEGORY', 'LATITUDE', 'LONGITUDE', 'SALE PRICE'])"
   ]
  },
  {
   "cell_type": "code",
   "execution_count": null,
   "id": "3a9364df",
   "metadata": {},
   "outputs": [],
   "source": [
    "dummy_api_df = pd.DataFrame([data], columns=df_cols.columns)\n",
    "encoded_features = encoder.transform(dummy_api_df)\n",
    "encoded_features = np.delete(encoded_features, 4, axis=1)\n",
    "prediction = model.predict(encoded_features)\n",
    "encoder.transformers_[0][1].inverse_transform([0,0,0,0,prediction[0]])[4]"
   ]
  },
  {
   "cell_type": "code",
   "execution_count": null,
   "id": "fa09d1ed",
   "metadata": {},
   "outputs": [],
   "source": []
  },
  {
   "cell_type": "code",
   "execution_count": 3,
   "id": "a30c8b99",
   "metadata": {},
   "outputs": [
    {
     "data": {
      "text/plain": [
       "'3.6.9 (default, Mar 10 2023, 16:46:00) \\n[GCC 8.4.0]'"
      ]
     },
     "execution_count": 3,
     "metadata": {},
     "output_type": "execute_result"
    }
   ],
   "source": [
    "import sys\n",
    "sys.version"
   ]
  },
  {
   "cell_type": "code",
   "execution_count": 4,
   "id": "8d6446b8",
   "metadata": {},
   "outputs": [
    {
     "name": "stdout",
     "output_type": "stream",
     "text": [
      "/usr/bin/python3\n"
     ]
    }
   ],
   "source": [
    "print(sys.executable)"
   ]
  },
  {
   "cell_type": "code",
   "execution_count": 36,
   "id": "a96f9c5d",
   "metadata": {},
   "outputs": [
    {
     "data": {
      "text/plain": [
       "'/project'"
      ]
     },
     "execution_count": 36,
     "metadata": {},
     "output_type": "execute_result"
    }
   ],
   "source": [
    "os.path.abspath(\"\")"
   ]
  },
  {
   "cell_type": "code",
   "execution_count": null,
   "id": "6870f3c7",
   "metadata": {},
   "outputs": [],
   "source": []
  },
  {
   "cell_type": "code",
   "execution_count": null,
   "id": "08c4507a",
   "metadata": {},
   "outputs": [],
   "source": []
  },
  {
   "cell_type": "code",
   "execution_count": null,
   "id": "d47989bc",
   "metadata": {},
   "outputs": [],
   "source": []
  },
  {
   "cell_type": "code",
   "execution_count": null,
   "id": "11a9563a",
   "metadata": {},
   "outputs": [],
   "source": []
  },
  {
   "cell_type": "code",
   "execution_count": null,
   "id": "edac5aad",
   "metadata": {},
   "outputs": [],
   "source": []
  },
  {
   "cell_type": "code",
   "execution_count": null,
   "id": "f3f46efb",
   "metadata": {},
   "outputs": [],
   "source": []
  },
  {
   "cell_type": "code",
   "execution_count": null,
   "id": "2bc6aa66",
   "metadata": {},
   "outputs": [],
   "source": []
  },
  {
   "cell_type": "code",
   "execution_count": null,
   "id": "b72334c0",
   "metadata": {},
   "outputs": [],
   "source": []
  },
  {
   "cell_type": "code",
   "execution_count": null,
   "id": "7ba263f6",
   "metadata": {},
   "outputs": [],
   "source": []
  },
  {
   "cell_type": "code",
   "execution_count": null,
   "id": "b45def30",
   "metadata": {},
   "outputs": [],
   "source": []
  },
  {
   "cell_type": "code",
   "execution_count": null,
   "id": "d7bf3fa9",
   "metadata": {},
   "outputs": [],
   "source": []
  },
  {
   "cell_type": "code",
   "execution_count": null,
   "id": "d10c50ee",
   "metadata": {},
   "outputs": [],
   "source": []
  },
  {
   "cell_type": "code",
   "execution_count": null,
   "id": "146582ef",
   "metadata": {},
   "outputs": [],
   "source": []
  },
  {
   "cell_type": "code",
   "execution_count": null,
   "id": "1af229a9",
   "metadata": {},
   "outputs": [],
   "source": []
  },
  {
   "cell_type": "code",
   "execution_count": null,
   "id": "e73aa422",
   "metadata": {},
   "outputs": [],
   "source": []
  },
  {
   "cell_type": "code",
   "execution_count": null,
   "id": "79784145",
   "metadata": {},
   "outputs": [],
   "source": []
  },
  {
   "cell_type": "code",
   "execution_count": null,
   "id": "31b78c0b",
   "metadata": {},
   "outputs": [],
   "source": []
  },
  {
   "cell_type": "code",
   "execution_count": null,
   "id": "55eb28cb",
   "metadata": {},
   "outputs": [],
   "source": []
  },
  {
   "cell_type": "code",
   "execution_count": null,
   "id": "070eb2ef",
   "metadata": {},
   "outputs": [],
   "source": []
  },
  {
   "cell_type": "code",
   "execution_count": null,
   "id": "20c28a3b",
   "metadata": {},
   "outputs": [],
   "source": []
  },
  {
   "cell_type": "code",
   "execution_count": null,
   "id": "e9c4bbab",
   "metadata": {},
   "outputs": [],
   "source": []
  },
  {
   "cell_type": "code",
   "execution_count": null,
   "id": "d0cc38a1",
   "metadata": {},
   "outputs": [],
   "source": []
  },
  {
   "cell_type": "code",
   "execution_count": null,
   "id": "79a30d07",
   "metadata": {},
   "outputs": [],
   "source": []
  }
 ],
 "metadata": {
  "kernelspec": {
   "display_name": "Python 3",
   "language": "python",
   "name": "python3"
  },
  "language_info": {
   "codemirror_mode": {
    "name": "ipython",
    "version": 3
   },
   "file_extension": ".py",
   "mimetype": "text/x-python",
   "name": "python",
   "nbconvert_exporter": "python",
   "pygments_lexer": "ipython3",
   "version": "3.6.9"
  }
 },
 "nbformat": 4,
 "nbformat_minor": 5
}
