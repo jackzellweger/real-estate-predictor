{
 "cells": [
  {
   "cell_type": "code",
   "execution_count": 108,
   "id": "91d0db9f",
   "metadata": {},
   "outputs": [],
   "source": [
    "# HELPERS\n",
    "import importlib\n",
    "importlib.reload(helpers)\n",
    "\n",
    "# OPERATING SYSTEM STUFF\n",
    "import os\n",
    "import io\n",
    "import gc\n",
    "\n",
    "# DATA SCIENCE\n",
    "import numpy as np\n",
    "import matplotlib.pyplot as plt\n",
    "import pandas as pd\n",
    "\n",
    "# API STUFF\n",
    "import xlrd\n",
    "import requests\n",
    "import json\n",
    "\n",
    "# SQL\n",
    "from sqlalchemy import create_engine, text, String, Integer, Float, Boolean, MetaData, Table, select\n",
    "from sqlalchemy.exc import ProgrammingError # ProgrammingError catches SQL write exceptions\n",
    "from sqlalchemy.sql import and_\n",
    "\n",
    "# GEOCODING\n",
    "from geopy.geocoders import GoogleV3\n",
    "\n",
    "# CONFIGURATION FILES\n",
    "import config\n",
    "pd.set_option('display.float_format', '{:.6f}'.format)\n",
    "\n",
    "# OTHER\n",
    "from tqdm.notebook import tqdm"
   ]
  },
  {
   "cell_type": "code",
   "execution_count": 109,
   "id": "501945f0",
   "metadata": {},
   "outputs": [],
   "source": [
    "# FUN SQLALCHEMY CODE\n",
    "\n",
    "# Show databases\n",
    "# with engine.connect() as connection:\n",
    "#     result = connection.execute(text(\"SHOW DATABASES;\"))\n",
    "#     databases = [row[0] for row in result]\n",
    "#     print(databases)\n",
    "\n",
    "# Show tables\n",
    "# with engine.connect() as connection:\n",
    "#     result = connection.execute(text(\"SHOW TABLES;\"))\n",
    "#     tables = [row[0] for row in result]\n",
    "#     print(tables)\n",
    "\n",
    "# Show all the building classes\n",
    "# This won't work unless the DataFrame 'combined' has been set up\n",
    "# sorted_building_classes = sorted(\n",
    "#     combined[\"BUILDING CLASS CATEGORY\"].unique(),\n",
    "#     key=lambda x: int(x.split(\" \")[0])\n",
    "# )\n",
    "\n",
    "# Show columns from table\n",
    "# with engine.connect() as connection:\n",
    "#     result = connection.execute(text(\"SHOW COLUMNS FROM geocodes;\"))\n",
    "#     tables = [(row[0],row[1]) for row in result]\n",
    "#     print(tables)\n",
    "\n",
    "# Show data from table\n",
    "# with engine.connect() as connection:\n",
    "#     result = connection.execute(text(\"SELECT * FROM geocodes LIMIT 1;\"))\n",
    "#     tables = [(row[0],row[1],row[2],row[3],row[4],row[5],row[6],\n",
    "#                row[7]\n",
    "#               ) for row in result]\n",
    "#     print(tables)\n",
    "\n",
    "# Verify primary keys\n",
    "# with engine.connect() as connection:\n",
    "#     result = connection.execute(text(\"SHOW KEYS FROM geocodes;\"))\n",
    "#     primary_key_column = result.fetchone()\n",
    "#     if primary_key_column:\n",
    "#         print(\"Primary key column:\", primary_key_column['Column_name'])\n",
    "#     else:\n",
    "#         print(\"No primary key defined for the table.\")"
   ]
  },
  {
   "cell_type": "code",
   "execution_count": 110,
   "id": "0fa97a1f",
   "metadata": {},
   "outputs": [],
   "source": [
    "# CREATE DATABASE CONNECTIONS\n",
    "\n",
    "# Silence random errors\n",
    "os.environ['SQLALCHEMY_WARN_20'] = '0'\n",
    "os.environ['SQLALCHEMY_SILENCE_UBER_WARNING'] = '1'\n",
    "\n",
    "# Database params & credentials\n",
    "username = 'root'\n",
    "password = 'rootpassword'\n",
    "hostname = 'db'\n",
    "database_name = 'database_1'\n",
    "\n",
    "# Create database connection\n",
    "engine = create_engine(f'mysql+pymysql://{username}:{password}@{hostname}')\n",
    "\n",
    "# Create database and tables\n",
    "try:\n",
    "    with engine.connect() as connection:\n",
    "        connection.execute(text(f'CREATE DATABASE {database_name};'))\n",
    "except ProgrammingError:\n",
    "    pass\n",
    "\n",
    "# Reset connection to connect to specific database\n",
    "engine = create_engine(f'mysql+pymysql://{username}:{password}@{hostname}/{database_name}')"
   ]
  },
  {
   "cell_type": "code",
   "execution_count": 111,
   "id": "68cb698b",
   "metadata": {},
   "outputs": [],
   "source": [
    "# DATABASE RESETS\n",
    "\n",
    "# This resets the 'geocodes' table from a .csv in the folder 'project'\n",
    "# DataFrame: 'geocodes_reset_df'\n",
    "# SQL Table: 'geocodes'\n",
    "# geocodes_reset_df = pd.read_csv('geocodes_export_backup.csv')\n",
    "# geocodes_reset_df['PRIMARY_KEY'] = geocodes_reset_df['BOROUGH'] + '_' + geocodes_reset_df['ADDRESS']\n",
    "# geocodes_reset_df.to_sql('geocodes', con=engine, index=False, if_exists='replace')\n",
    "\n",
    "# This resets the 'geocodes' tabke from a .csv in the folder 'project'\n",
    "# while dropping the last 10 entries...\n",
    "# DataFrame: 'geocodes_reset_df'\n",
    "# SQL Table: 'geocodes'\n",
    "geocodes_reset_df = pd.read_csv('geocodes_export_backup.csv')\n",
    "geocodes_reset_df.drop(geocodes_reset_df.tail(10).index, inplace=True)\n",
    "# geocodes_reset_df"
   ]
  },
  {
   "cell_type": "code",
   "execution_count": 112,
   "id": "54eff3ee",
   "metadata": {},
   "outputs": [],
   "source": [
    "geocodes_reset_df.to_sql(geocodes_sql_table_name,\n",
    "                             con=engine,\n",
    "                             index=False,\n",
    "                             if_exists='replace')"
   ]
  },
  {
   "cell_type": "code",
   "execution_count": null,
   "id": "66a3fe6e",
   "metadata": {},
   "outputs": [],
   "source": []
  },
  {
   "cell_type": "code",
   "execution_count": 113,
   "id": "a87a9961",
   "metadata": {},
   "outputs": [
    {
     "name": "stdout",
     "output_type": "stream",
     "text": [
      "Column PRIMARY_KEY created in database 'database_1'.\n",
      "PRIMARY_KEY column values set in database 'database_1'.\n"
     ]
    }
   ],
   "source": [
    "# CREATE DATABASES\n",
    "\n",
    "# -------------- CREATE `geocodes` TABLE ---------------\n",
    "geocodes_sql_table_name = 'geocodes'\n",
    "\n",
    "with engine.connect() as connection:\n",
    "    # Uses the reset data\n",
    "    geocodes_reset_df.to_sql(geocodes_sql_table_name,\n",
    "                             con=engine,\n",
    "                             index=False,\n",
    "                             if_exists='replace')\n",
    "\n",
    "    try: # This will only work if there is not already a column called 'PRIMARY_KEY'\n",
    "        connection.execute( # Set primary key\n",
    "            text(\n",
    "                f'ALTER TABLE {geocodes_sql_table_name} ADD COLUMN PRIMARY_KEY VARCHAR(255)'\n",
    "            )\n",
    "        )\n",
    "        print(f\"Column PRIMARY_KEY created in database '{database_name}'.\")\n",
    "    except:\n",
    "        print(f\"Column PRIMARY_KEY already exists in database '{database_name}'.\")\n",
    "    \n",
    "    try:\n",
    "        connection.execute( # Set the values of the primary keys\n",
    "            text(\n",
    "                f'UPDATE {geocodes_sql_table_name} SET PRIMARY_KEY = CONCAT(`BOROUGH`, \\'_\\', `ADDRESS`)'\n",
    "            )\n",
    "        )\n",
    "        print(f\"PRIMARY_KEY column values set in database '{database_name}'.\")\n",
    "    except:\n",
    "        print(f\"PRIMARY_KEY column values set error in database '{database_name}'.\") \n",
    "\n",
    "\n",
    "# 2.) -------------- CREATE `cat_map` TABLE ---------------\n",
    "mapping_list = [(k, v) for k, vals in helpers.mapping.items() for v in vals]\n",
    "mapping_df = pd.DataFrame(\n",
    "    mapping_list,\n",
    "    columns=['ZILLOW CATEGORY', 'BUILDING CLASS CATEGORY']\n",
    ")\n",
    "\n",
    "# Put the map into a SQL table. Why? Not sure. Might need it later!\n",
    "mapping_df.to_sql('cat_map', con=engine, index=False, if_exists='replace')"
   ]
  },
  {
   "cell_type": "code",
   "execution_count": null,
   "id": "4d0ae7be",
   "metadata": {},
   "outputs": [],
   "source": []
  },
  {
   "cell_type": "code",
   "execution_count": 114,
   "id": "a81f85bb",
   "metadata": {},
   "outputs": [],
   "source": [
    "# Create an empty array that will hold our NYC Housing DataFrames\n",
    "data = []\n",
    "\n",
    "# Pull data from the NYC website\n",
    "for url in helpers.dataURLs:\n",
    "    # Read Excel file and skip the first 4 rows\n",
    "    df = pd.read_excel(url, skiprows=4, engine=\"openpyxl\")\n",
    "    data.append(df)"
   ]
  },
  {
   "cell_type": "code",
   "execution_count": 115,
   "id": "12066813",
   "metadata": {},
   "outputs": [],
   "source": [
    "# Combine the dataframes from the nyc housing website\n",
    "combined = pd.concat(data, ignore_index=True)\n",
    "\n",
    "# Rename the 'BOROUGH' column to 'BOROUGH CODE'\n",
    "combined = combined.rename(columns={'BOROUGH': 'BOROUGH CODE'})\n",
    "\n",
    "# Define the mapping for borough codes to borough names\n",
    "borough_mapping = {1: 'MANHATTAN', 2: 'BRONX', 3: 'BROOKLYN', 4: 'QUEENS', 5: 'STATEN ISLAND'}\n",
    "\n",
    "# Create a new 'BOROUGH' column based on 'BOROUGH CODE'\n",
    "borough = combined['BOROUGH CODE'].map(borough_mapping)\n",
    "\n",
    "# Insert the new 'BOROUGH' column into the DataFrame right after the 'BOROUGH CODE' column\n",
    "combined.insert(loc=1, column='BOROUGH', value=borough)\n",
    "\n",
    "# Remove rows that contain the string 'N/A'\n",
    "combined = combined[~combined['ADDRESS'].str.contains('N/A')]"
   ]
  },
  {
   "cell_type": "code",
   "execution_count": 116,
   "id": "354596fe",
   "metadata": {},
   "outputs": [],
   "source": [
    "# Write the contents of `combined` to the `sales` SQL table...\n",
    "combined.to_sql('sales', con=engine, index=False, if_exists='replace')"
   ]
  },
  {
   "cell_type": "code",
   "execution_count": 117,
   "id": "25473ee8",
   "metadata": {},
   "outputs": [],
   "source": [
    "# CREATE GEOCODING TABLE & COPY TO SQL TABLE\n",
    "# Template Pandas DataFrame that we use to build the SQL database\n",
    "# using the 'geocoding_data_types_df' data structure we defined above\n",
    "geocodes = pd.DataFrame(columns=helpers.geocoding_data_types_df)"
   ]
  },
  {
   "cell_type": "code",
   "execution_count": 118,
   "id": "c868334b",
   "metadata": {},
   "outputs": [],
   "source": [
    "# Create a table of the geographic information from `combined`\n",
    "geocodingTable = combined[['BOROUGH CODE', 'BOROUGH', 'NEIGHBORHOOD', 'ADDRESS']].copy()\n",
    "geocodingTable['LATITUDE'] = None\n",
    "geocodingTable['LONGITUDE'] = None\n",
    "geocodingTable['GEOCODING ERR'] = False\n",
    "geocodingTable['PRIMARY_KEY'] = geocodingTable['BOROUGH'] + '_' + geocodingTable['ADDRESS']"
   ]
  },
  {
   "cell_type": "code",
   "execution_count": 119,
   "id": "e20808a1",
   "metadata": {},
   "outputs": [],
   "source": [
    "# Load 'geocodes' SQL table into a DataFrame\n",
    "\n",
    "geocodes_table_response = pd.read_sql_query(f\"SELECT * FROM {geocodes_sql_table_name}\", engine)\n"
   ]
  },
  {
   "cell_type": "code",
   "execution_count": 124,
   "id": "c290d54c",
   "metadata": {},
   "outputs": [],
   "source": [
    "# FIND rows in NYC not in our 'geocodes table\n",
    "missing_rows = geocodingTable[~geocodingTable['PRIMARY_KEY'].isin(geocodes_table_response['PRIMARY_KEY'])]"
   ]
  },
  {
   "cell_type": "code",
   "execution_count": 125,
   "id": "060502af",
   "metadata": {},
   "outputs": [
    {
     "data": {
      "application/vnd.jupyter.widget-view+json": {
       "model_id": "69e8963dd55d4310a68e7945e2a27322",
       "version_major": 2,
       "version_minor": 0
      },
      "text/plain": [
       "  0%|          | 0/9 [00:00<?, ?it/s]"
      ]
     },
     "metadata": {},
     "output_type": "display_data"
    }
   ],
   "source": [
    "# Geocode the rows missing from the SQL table `geocodes`\n",
    "tqdm.pandas()\n",
    "missing_rows = missing_rows.progress_apply(helpers.geolocate, axis=1)"
   ]
  },
  {
   "cell_type": "code",
   "execution_count": null,
   "id": "8bf59fb9",
   "metadata": {},
   "outputs": [],
   "source": []
  },
  {
   "cell_type": "code",
   "execution_count": 128,
   "id": "c015421e",
   "metadata": {},
   "outputs": [
    {
     "ename": "KeyError",
     "evalue": "\"None of ['PRIMARY_KEY'] are in the columns\"",
     "output_type": "error",
     "traceback": [
      "\u001b[0;31m---------------------------------------------------------------------------\u001b[0m",
      "\u001b[0;31mKeyError\u001b[0m                                  Traceback (most recent call last)",
      "\u001b[0;32m<ipython-input-128-93094d05cbb2>\u001b[0m in \u001b[0;36m<module>\u001b[0;34m\u001b[0m\n\u001b[1;32m      1\u001b[0m \u001b[0;31m# Set the index on the dataframe so that we ensure we don't have duplicates..\u001b[0m\u001b[0;34m\u001b[0m\u001b[0;34m\u001b[0m\u001b[0;34m\u001b[0m\u001b[0m\n\u001b[0;32m----> 2\u001b[0;31m \u001b[0mmissing_rows\u001b[0m\u001b[0;34m.\u001b[0m\u001b[0mset_index\u001b[0m\u001b[0;34m(\u001b[0m\u001b[0;34m'PRIMARY_KEY'\u001b[0m\u001b[0;34m,\u001b[0m \u001b[0minplace\u001b[0m\u001b[0;34m=\u001b[0m\u001b[0;32mTrue\u001b[0m\u001b[0;34m)\u001b[0m\u001b[0;34m\u001b[0m\u001b[0;34m\u001b[0m\u001b[0m\n\u001b[0m",
      "\u001b[0;32m/usr/local/lib/python3.6/dist-packages/pandas/core/frame.py\u001b[0m in \u001b[0;36mset_index\u001b[0;34m(self, keys, drop, append, inplace, verify_integrity)\u001b[0m\n\u001b[1;32m   4553\u001b[0m \u001b[0;34m\u001b[0m\u001b[0m\n\u001b[1;32m   4554\u001b[0m         \u001b[0;32mif\u001b[0m \u001b[0mmissing\u001b[0m\u001b[0;34m:\u001b[0m\u001b[0;34m\u001b[0m\u001b[0;34m\u001b[0m\u001b[0m\n\u001b[0;32m-> 4555\u001b[0;31m             \u001b[0;32mraise\u001b[0m \u001b[0mKeyError\u001b[0m\u001b[0;34m(\u001b[0m\u001b[0;34mf\"None of {missing} are in the columns\"\u001b[0m\u001b[0;34m)\u001b[0m\u001b[0;34m\u001b[0m\u001b[0;34m\u001b[0m\u001b[0m\n\u001b[0m\u001b[1;32m   4556\u001b[0m \u001b[0;34m\u001b[0m\u001b[0m\n\u001b[1;32m   4557\u001b[0m         \u001b[0;32mif\u001b[0m \u001b[0minplace\u001b[0m\u001b[0;34m:\u001b[0m\u001b[0;34m\u001b[0m\u001b[0;34m\u001b[0m\u001b[0m\n",
      "\u001b[0;31mKeyError\u001b[0m: \"None of ['PRIMARY_KEY'] are in the columns\""
     ]
    }
   ],
   "source": [
    "# Set the index on the dataframe so that we ensure we don't have duplicates..\n",
    "missing_rows.set_index('PRIMARY_KEY', inplace=True)"
   ]
  },
  {
   "cell_type": "code",
   "execution_count": 130,
   "id": "0ef86175",
   "metadata": {},
   "outputs": [],
   "source": [
    "# Add the missing rows back to the SQL table\n",
    "missing_rows.to_sql('geocodes', con=engine, if_exists='append', index=True)"
   ]
  },
  {
   "cell_type": "code",
   "execution_count": 129,
   "id": "46505fb0",
   "metadata": {},
   "outputs": [
    {
     "data": {
      "text/html": [
       "<div>\n",
       "<style scoped>\n",
       "    .dataframe tbody tr th:only-of-type {\n",
       "        vertical-align: middle;\n",
       "    }\n",
       "\n",
       "    .dataframe tbody tr th {\n",
       "        vertical-align: top;\n",
       "    }\n",
       "\n",
       "    .dataframe thead th {\n",
       "        text-align: right;\n",
       "    }\n",
       "</style>\n",
       "<table border=\"1\" class=\"dataframe\">\n",
       "  <thead>\n",
       "    <tr style=\"text-align: right;\">\n",
       "      <th></th>\n",
       "      <th>BOROUGH CODE</th>\n",
       "      <th>BOROUGH</th>\n",
       "      <th>NEIGHBORHOOD</th>\n",
       "      <th>ADDRESS</th>\n",
       "      <th>LATITUDE</th>\n",
       "      <th>LONGITUDE</th>\n",
       "      <th>GEOCODING ERR</th>\n",
       "    </tr>\n",
       "    <tr>\n",
       "      <th>PRIMARY_KEY</th>\n",
       "      <th></th>\n",
       "      <th></th>\n",
       "      <th></th>\n",
       "      <th></th>\n",
       "      <th></th>\n",
       "      <th></th>\n",
       "      <th></th>\n",
       "    </tr>\n",
       "  </thead>\n",
       "  <tbody>\n",
       "    <tr>\n",
       "      <th>STATEN ISLAND_59 PHEASANT LANE</th>\n",
       "      <td>5</td>\n",
       "      <td>STATEN ISLAND</td>\n",
       "      <td>WOODROW</td>\n",
       "      <td>59 PHEASANT LANE</td>\n",
       "      <td>40.532981</td>\n",
       "      <td>-74.222449</td>\n",
       "      <td>False</td>\n",
       "    </tr>\n",
       "    <tr>\n",
       "      <th>STATEN ISLAND_60 PHEASANT LANE</th>\n",
       "      <td>5</td>\n",
       "      <td>STATEN ISLAND</td>\n",
       "      <td>WOODROW</td>\n",
       "      <td>60 PHEASANT LANE</td>\n",
       "      <td>40.532613</td>\n",
       "      <td>-74.222587</td>\n",
       "      <td>False</td>\n",
       "    </tr>\n",
       "    <tr>\n",
       "      <th>STATEN ISLAND_377 ENGLEWOOD AVENUE</th>\n",
       "      <td>5</td>\n",
       "      <td>STATEN ISLAND</td>\n",
       "      <td>WOODROW</td>\n",
       "      <td>377 ENGLEWOOD AVENUE</td>\n",
       "      <td>40.532316</td>\n",
       "      <td>-74.222781</td>\n",
       "      <td>False</td>\n",
       "    </tr>\n",
       "    <tr>\n",
       "      <th>STATEN ISLAND_40 HERRICK AVENUE</th>\n",
       "      <td>5</td>\n",
       "      <td>STATEN ISLAND</td>\n",
       "      <td>WOODROW</td>\n",
       "      <td>40 HERRICK AVENUE</td>\n",
       "      <td>40.530672</td>\n",
       "      <td>-74.219239</td>\n",
       "      <td>False</td>\n",
       "    </tr>\n",
       "    <tr>\n",
       "      <th>STATEN ISLAND_40 HERRICK AVENUE</th>\n",
       "      <td>5</td>\n",
       "      <td>STATEN ISLAND</td>\n",
       "      <td>WOODROW</td>\n",
       "      <td>40 HERRICK AVENUE</td>\n",
       "      <td>40.530672</td>\n",
       "      <td>-74.219239</td>\n",
       "      <td>False</td>\n",
       "    </tr>\n",
       "    <tr>\n",
       "      <th>STATEN ISLAND_104 GLADWIN STREET</th>\n",
       "      <td>5</td>\n",
       "      <td>STATEN ISLAND</td>\n",
       "      <td>WOODROW</td>\n",
       "      <td>104 GLADWIN STREET</td>\n",
       "      <td>40.531902</td>\n",
       "      <td>-74.222495</td>\n",
       "      <td>False</td>\n",
       "    </tr>\n",
       "    <tr>\n",
       "      <th>STATEN ISLAND_96 LENEVAR AVENUE</th>\n",
       "      <td>5</td>\n",
       "      <td>STATEN ISLAND</td>\n",
       "      <td>WOODROW</td>\n",
       "      <td>96 LENEVAR AVENUE</td>\n",
       "      <td>40.538871</td>\n",
       "      <td>-74.209380</td>\n",
       "      <td>False</td>\n",
       "    </tr>\n",
       "    <tr>\n",
       "      <th>STATEN ISLAND_401 BLOOMINGDALE ROAD</th>\n",
       "      <td>5</td>\n",
       "      <td>STATEN ISLAND</td>\n",
       "      <td>WOODROW</td>\n",
       "      <td>401 BLOOMINGDALE ROAD</td>\n",
       "      <td>40.534780</td>\n",
       "      <td>-74.217978</td>\n",
       "      <td>False</td>\n",
       "    </tr>\n",
       "    <tr>\n",
       "      <th>STATEN ISLAND_3120 ARTHUR KILL ROAD</th>\n",
       "      <td>5</td>\n",
       "      <td>STATEN ISLAND</td>\n",
       "      <td>WOODROW</td>\n",
       "      <td>3120 ARTHUR KILL ROAD</td>\n",
       "      <td>40.543765</td>\n",
       "      <td>-74.233477</td>\n",
       "      <td>False</td>\n",
       "    </tr>\n",
       "  </tbody>\n",
       "</table>\n",
       "</div>"
      ],
      "text/plain": [
       "                                     BOROUGH CODE        BOROUGH NEIGHBORHOOD  \\\n",
       "PRIMARY_KEY                                                                     \n",
       "STATEN ISLAND_59 PHEASANT LANE                  5  STATEN ISLAND      WOODROW   \n",
       "STATEN ISLAND_60 PHEASANT LANE                  5  STATEN ISLAND      WOODROW   \n",
       "STATEN ISLAND_377 ENGLEWOOD AVENUE              5  STATEN ISLAND      WOODROW   \n",
       "STATEN ISLAND_40 HERRICK AVENUE                 5  STATEN ISLAND      WOODROW   \n",
       "STATEN ISLAND_40 HERRICK AVENUE                 5  STATEN ISLAND      WOODROW   \n",
       "STATEN ISLAND_104 GLADWIN STREET                5  STATEN ISLAND      WOODROW   \n",
       "STATEN ISLAND_96 LENEVAR AVENUE                 5  STATEN ISLAND      WOODROW   \n",
       "STATEN ISLAND_401 BLOOMINGDALE ROAD             5  STATEN ISLAND      WOODROW   \n",
       "STATEN ISLAND_3120 ARTHUR KILL ROAD             5  STATEN ISLAND      WOODROW   \n",
       "\n",
       "                                                   ADDRESS  LATITUDE  \\\n",
       "PRIMARY_KEY                                                            \n",
       "STATEN ISLAND_59 PHEASANT LANE            59 PHEASANT LANE 40.532981   \n",
       "STATEN ISLAND_60 PHEASANT LANE            60 PHEASANT LANE 40.532613   \n",
       "STATEN ISLAND_377 ENGLEWOOD AVENUE    377 ENGLEWOOD AVENUE 40.532316   \n",
       "STATEN ISLAND_40 HERRICK AVENUE          40 HERRICK AVENUE 40.530672   \n",
       "STATEN ISLAND_40 HERRICK AVENUE          40 HERRICK AVENUE 40.530672   \n",
       "STATEN ISLAND_104 GLADWIN STREET        104 GLADWIN STREET 40.531902   \n",
       "STATEN ISLAND_96 LENEVAR AVENUE          96 LENEVAR AVENUE 40.538871   \n",
       "STATEN ISLAND_401 BLOOMINGDALE ROAD  401 BLOOMINGDALE ROAD 40.534780   \n",
       "STATEN ISLAND_3120 ARTHUR KILL ROAD  3120 ARTHUR KILL ROAD 40.543765   \n",
       "\n",
       "                                     LONGITUDE  GEOCODING ERR  \n",
       "PRIMARY_KEY                                                    \n",
       "STATEN ISLAND_59 PHEASANT LANE      -74.222449          False  \n",
       "STATEN ISLAND_60 PHEASANT LANE      -74.222587          False  \n",
       "STATEN ISLAND_377 ENGLEWOOD AVENUE  -74.222781          False  \n",
       "STATEN ISLAND_40 HERRICK AVENUE     -74.219239          False  \n",
       "STATEN ISLAND_40 HERRICK AVENUE     -74.219239          False  \n",
       "STATEN ISLAND_104 GLADWIN STREET    -74.222495          False  \n",
       "STATEN ISLAND_96 LENEVAR AVENUE     -74.209380          False  \n",
       "STATEN ISLAND_401 BLOOMINGDALE ROAD -74.217978          False  \n",
       "STATEN ISLAND_3120 ARTHUR KILL ROAD -74.233477          False  "
      ]
     },
     "execution_count": 129,
     "metadata": {},
     "output_type": "execute_result"
    }
   ],
   "source": [
    "missing_rows"
   ]
  },
  {
   "cell_type": "code",
   "execution_count": 131,
   "id": "8604d317",
   "metadata": {},
   "outputs": [
    {
     "data": {
      "text/html": [
       "<div>\n",
       "<style scoped>\n",
       "    .dataframe tbody tr th:only-of-type {\n",
       "        vertical-align: middle;\n",
       "    }\n",
       "\n",
       "    .dataframe tbody tr th {\n",
       "        vertical-align: top;\n",
       "    }\n",
       "\n",
       "    .dataframe thead th {\n",
       "        text-align: right;\n",
       "    }\n",
       "</style>\n",
       "<table border=\"1\" class=\"dataframe\">\n",
       "  <thead>\n",
       "    <tr style=\"text-align: right;\">\n",
       "      <th></th>\n",
       "      <th>BOROUGH CODE</th>\n",
       "      <th>BOROUGH</th>\n",
       "      <th>NEIGHBORHOOD</th>\n",
       "      <th>ADDRESS</th>\n",
       "      <th>LATITUDE</th>\n",
       "      <th>LONGITUDE</th>\n",
       "      <th>GEOCODING ERR</th>\n",
       "      <th>PRIMARY_KEY</th>\n",
       "    </tr>\n",
       "  </thead>\n",
       "  <tbody>\n",
       "  </tbody>\n",
       "</table>\n",
       "</div>"
      ],
      "text/plain": [
       "Empty DataFrame\n",
       "Columns: [BOROUGH CODE, BOROUGH, NEIGHBORHOOD, ADDRESS, LATITUDE, LONGITUDE, GEOCODING ERR, PRIMARY_KEY]\n",
       "Index: []"
      ]
     },
     "execution_count": 131,
     "metadata": {},
     "output_type": "execute_result"
    }
   ],
   "source": [
    "# Now we can test to see if our append worked\n",
    "geocodes_table_response = pd.read_sql_query(f\"SELECT * FROM {geocodes_sql_table_name}\", engine)\n",
    "missing_rows = geocodingTable[~geocodingTable['PRIMARY_KEY'].isin(geocodes_table_response['PRIMARY_KEY'])]\n",
    "missing_rows"
   ]
  },
  {
   "cell_type": "code",
   "execution_count": null,
   "id": "9cd7eb0e",
   "metadata": {},
   "outputs": [],
   "source": [
    "# YES! IT DID!"
   ]
  },
  {
   "cell_type": "code",
   "execution_count": null,
   "id": "758dedfa",
   "metadata": {},
   "outputs": [],
   "source": []
  },
  {
   "cell_type": "code",
   "execution_count": null,
   "id": "00e9e6e5",
   "metadata": {},
   "outputs": [],
   "source": []
  },
  {
   "cell_type": "code",
   "execution_count": null,
   "id": "c21e02c3",
   "metadata": {},
   "outputs": [],
   "source": []
  },
  {
   "cell_type": "code",
   "execution_count": null,
   "id": "1ace58c2",
   "metadata": {},
   "outputs": [],
   "source": []
  },
  {
   "cell_type": "code",
   "execution_count": null,
   "id": "7b00acef",
   "metadata": {},
   "outputs": [],
   "source": []
  },
  {
   "cell_type": "code",
   "execution_count": null,
   "id": "b592af15",
   "metadata": {},
   "outputs": [],
   "source": []
  },
  {
   "cell_type": "code",
   "execution_count": 16,
   "id": "69c54784",
   "metadata": {},
   "outputs": [],
   "source": []
  },
  {
   "cell_type": "code",
   "execution_count": null,
   "id": "76c48ec9",
   "metadata": {},
   "outputs": [],
   "source": []
  },
  {
   "cell_type": "code",
   "execution_count": null,
   "id": "75b369bb",
   "metadata": {},
   "outputs": [],
   "source": []
  },
  {
   "cell_type": "code",
   "execution_count": null,
   "id": "09de73cf",
   "metadata": {},
   "outputs": [],
   "source": []
  },
  {
   "cell_type": "code",
   "execution_count": null,
   "id": "1bbdb995",
   "metadata": {},
   "outputs": [],
   "source": []
  },
  {
   "cell_type": "code",
   "execution_count": null,
   "id": "fcd417f9",
   "metadata": {},
   "outputs": [],
   "source": []
  },
  {
   "cell_type": "code",
   "execution_count": null,
   "id": "382c1b46",
   "metadata": {},
   "outputs": [],
   "source": []
  },
  {
   "cell_type": "code",
   "execution_count": null,
   "id": "6bcf4ffa",
   "metadata": {},
   "outputs": [],
   "source": []
  },
  {
   "cell_type": "code",
   "execution_count": null,
   "id": "c473cacf",
   "metadata": {},
   "outputs": [],
   "source": []
  },
  {
   "cell_type": "code",
   "execution_count": null,
   "id": "3c4ca1d0",
   "metadata": {},
   "outputs": [],
   "source": []
  },
  {
   "cell_type": "code",
   "execution_count": null,
   "id": "93cbf929",
   "metadata": {},
   "outputs": [],
   "source": []
  },
  {
   "cell_type": "code",
   "execution_count": null,
   "id": "d2b6cda4",
   "metadata": {},
   "outputs": [],
   "source": []
  },
  {
   "cell_type": "code",
   "execution_count": null,
   "id": "dfde4f59",
   "metadata": {},
   "outputs": [],
   "source": []
  },
  {
   "cell_type": "code",
   "execution_count": null,
   "id": "0b0b3b07",
   "metadata": {},
   "outputs": [],
   "source": []
  },
  {
   "cell_type": "code",
   "execution_count": null,
   "id": "bdf16abd",
   "metadata": {},
   "outputs": [],
   "source": []
  },
  {
   "cell_type": "code",
   "execution_count": null,
   "id": "1a3e8784",
   "metadata": {},
   "outputs": [],
   "source": []
  },
  {
   "cell_type": "code",
   "execution_count": null,
   "id": "06f76d89",
   "metadata": {},
   "outputs": [],
   "source": []
  },
  {
   "cell_type": "code",
   "execution_count": null,
   "id": "3a9364df",
   "metadata": {},
   "outputs": [],
   "source": []
  },
  {
   "cell_type": "code",
   "execution_count": null,
   "id": "9b99abc9",
   "metadata": {},
   "outputs": [],
   "source": []
  },
  {
   "cell_type": "code",
   "execution_count": null,
   "id": "6da92487",
   "metadata": {},
   "outputs": [],
   "source": []
  },
  {
   "cell_type": "code",
   "execution_count": null,
   "id": "d18fbbb8",
   "metadata": {},
   "outputs": [],
   "source": []
  },
  {
   "cell_type": "code",
   "execution_count": null,
   "id": "fa09d1ed",
   "metadata": {},
   "outputs": [],
   "source": []
  },
  {
   "cell_type": "code",
   "execution_count": null,
   "id": "a30c8b99",
   "metadata": {},
   "outputs": [],
   "source": []
  },
  {
   "cell_type": "code",
   "execution_count": null,
   "id": "8d6446b8",
   "metadata": {},
   "outputs": [],
   "source": []
  },
  {
   "cell_type": "code",
   "execution_count": null,
   "id": "a96f9c5d",
   "metadata": {},
   "outputs": [],
   "source": []
  },
  {
   "cell_type": "code",
   "execution_count": null,
   "id": "d6175d7a",
   "metadata": {},
   "outputs": [],
   "source": [
    "# DANGEROUS! HIGH API USAGE!\n",
    "\n",
    "# tqdm.pandas()\n",
    "# missing_rows = missing_rows.progress_apply(helpers.geolocate, axis=1)\n",
    "# missing_rows.to_csv('geocodes_export.csv', index=False)"
   ]
  },
  {
   "cell_type": "code",
   "execution_count": null,
   "id": "f10bafba",
   "metadata": {},
   "outputs": [],
   "source": [
    "# Create the SQLAlchemy engine\n",
    "engine = create_engine(f'mysql+pymysql://{username}:{password}@{hostname}/{database_name}')\n",
    "# Call the function to print the SQL table\n",
    "helpers.print_sql_table(engine, 'geocodes')"
   ]
  },
  {
   "cell_type": "code",
   "execution_count": null,
   "id": "6989a2c3",
   "metadata": {},
   "outputs": [],
   "source": [
    "missing_rows.to_csv('geocodes_export_next.csv', index=False)"
   ]
  },
  {
   "cell_type": "code",
   "execution_count": null,
   "id": "e1c33997",
   "metadata": {},
   "outputs": [],
   "source": [
    "# Outdated\n",
    "# with engine.connect() as connection:\n",
    "#     connection.execute(text(\"ALTER TABLE geocodes ADD PRIMARY_KEY VARCHAR(255)\"))\n",
    "#     connection.execute(text(\"UPDATE geocodes SET PRIMARY_KEY = CONCAT(`BOROUGH CODE`, '_', `BOROUGH`, '_', `ADDRESS`)\"))\n"
   ]
  },
  {
   "cell_type": "code",
   "execution_count": null,
   "id": "2594f6bb",
   "metadata": {},
   "outputs": [],
   "source": [
    "text(f'UPDATE {geocodes_sql_table_name} SET PRIMARY_KEY = CONCAT([BOROUGH CODE], '_', [BOROUGH], '_', [ADDRESS])')\n"
   ]
  },
  {
   "cell_type": "code",
   "execution_count": 66,
   "id": "155cdb54",
   "metadata": {},
   "outputs": [
    {
     "name": "stdout",
     "output_type": "stream",
     "text": [
      "[(1, 'MANHATTAN', 'ALPHABET CITY', '347 EAST 4TH STREET', 40.7216651, -73.97831219999998, 0, 'MANHATTAN_347 EAST 4TH STREET'), (1, 'MANHATTAN', 'ALPHABET CITY', '19 AVENUE D', 40.7206751, -73.97849839999998, 0, 'MANHATTAN_19 AVENUE D')]\n"
     ]
    }
   ],
   "source": [
    "with engine.connect() as connection:\n",
    "    result = connection.execute(text(\"SELECT * FROM geocodes LIMIT 2;\"))\n",
    "    tables = [(row[0],row[1],row[2],row[3],row[4],row[5],row[6],row[7]) for row in result]\n",
    "    print(tables)"
   ]
  },
  {
   "cell_type": "code",
   "execution_count": null,
   "id": "6870f3c7",
   "metadata": {},
   "outputs": [],
   "source": []
  },
  {
   "cell_type": "code",
   "execution_count": null,
   "id": "08c4507a",
   "metadata": {},
   "outputs": [],
   "source": []
  },
  {
   "cell_type": "code",
   "execution_count": null,
   "id": "d47989bc",
   "metadata": {},
   "outputs": [],
   "source": []
  },
  {
   "cell_type": "code",
   "execution_count": null,
   "id": "11a9563a",
   "metadata": {},
   "outputs": [],
   "source": []
  },
  {
   "cell_type": "code",
   "execution_count": null,
   "id": "edac5aad",
   "metadata": {},
   "outputs": [],
   "source": []
  },
  {
   "cell_type": "code",
   "execution_count": null,
   "id": "f3f46efb",
   "metadata": {},
   "outputs": [],
   "source": []
  },
  {
   "cell_type": "code",
   "execution_count": null,
   "id": "2bc6aa66",
   "metadata": {},
   "outputs": [],
   "source": []
  },
  {
   "cell_type": "code",
   "execution_count": null,
   "id": "b72334c0",
   "metadata": {},
   "outputs": [],
   "source": []
  },
  {
   "cell_type": "code",
   "execution_count": null,
   "id": "7ba263f6",
   "metadata": {},
   "outputs": [],
   "source": []
  },
  {
   "cell_type": "code",
   "execution_count": null,
   "id": "b45def30",
   "metadata": {},
   "outputs": [],
   "source": []
  },
  {
   "cell_type": "code",
   "execution_count": null,
   "id": "d7bf3fa9",
   "metadata": {},
   "outputs": [],
   "source": []
  },
  {
   "cell_type": "code",
   "execution_count": null,
   "id": "d10c50ee",
   "metadata": {},
   "outputs": [],
   "source": []
  },
  {
   "cell_type": "code",
   "execution_count": null,
   "id": "146582ef",
   "metadata": {},
   "outputs": [],
   "source": []
  },
  {
   "cell_type": "code",
   "execution_count": null,
   "id": "1af229a9",
   "metadata": {},
   "outputs": [],
   "source": []
  },
  {
   "cell_type": "code",
   "execution_count": null,
   "id": "e73aa422",
   "metadata": {},
   "outputs": [],
   "source": []
  },
  {
   "cell_type": "code",
   "execution_count": null,
   "id": "79784145",
   "metadata": {},
   "outputs": [],
   "source": []
  },
  {
   "cell_type": "code",
   "execution_count": null,
   "id": "31b78c0b",
   "metadata": {},
   "outputs": [],
   "source": []
  },
  {
   "cell_type": "code",
   "execution_count": null,
   "id": "55eb28cb",
   "metadata": {},
   "outputs": [],
   "source": []
  },
  {
   "cell_type": "code",
   "execution_count": null,
   "id": "070eb2ef",
   "metadata": {},
   "outputs": [],
   "source": []
  },
  {
   "cell_type": "code",
   "execution_count": null,
   "id": "20c28a3b",
   "metadata": {},
   "outputs": [],
   "source": []
  },
  {
   "cell_type": "code",
   "execution_count": null,
   "id": "e9c4bbab",
   "metadata": {},
   "outputs": [],
   "source": []
  },
  {
   "cell_type": "code",
   "execution_count": null,
   "id": "d0cc38a1",
   "metadata": {},
   "outputs": [],
   "source": []
  },
  {
   "cell_type": "code",
   "execution_count": null,
   "id": "79a30d07",
   "metadata": {},
   "outputs": [],
   "source": []
  }
 ],
 "metadata": {
  "kernelspec": {
   "display_name": "Python 3",
   "language": "python",
   "name": "python3"
  },
  "language_info": {
   "codemirror_mode": {
    "name": "ipython",
    "version": 3
   },
   "file_extension": ".py",
   "mimetype": "text/x-python",
   "name": "python",
   "nbconvert_exporter": "python",
   "pygments_lexer": "ipython3",
   "version": "3.6.9"
  }
 },
 "nbformat": 4,
 "nbformat_minor": 5
}
