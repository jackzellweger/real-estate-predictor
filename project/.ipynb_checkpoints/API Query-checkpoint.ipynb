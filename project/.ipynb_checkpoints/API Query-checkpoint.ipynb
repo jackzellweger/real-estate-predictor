{
 "cells": [
  {
   "cell_type": "code",
   "execution_count": 1,
   "id": "7e214e8e",
   "metadata": {},
   "outputs": [
    {
     "name": "stdout",
     "output_type": "stream",
     "text": [
      "ValueError: X has 5 features, but ColumnTransformer is expecting 7 features as input.\n"
     ]
    }
   ],
   "source": [
    "import requests\n",
    "data = {\n",
    "    'BOROUGH CODE': 1,\n",
    "    'GROUPED CATEGORY': 'Single-family home',\n",
    "    'GROSS SQUARE FEET': 1500,\n",
    "    'LAND SQUARE FEET': 2000,\n",
    "    'LATITUDE': 40.7128,\n",
    "    'LONGITUDE': -74.0060\n",
    "}\n",
    "\n",
    "response = requests.post('http://localhost:8080/predict', json=data)\n",
    "\n",
    "print(response.text)"
   ]
  },
  {
   "cell_type": "code",
   "execution_count": null,
   "id": "42b67ab3",
   "metadata": {},
   "outputs": [],
   "source": []
  }
 ],
 "metadata": {
  "kernelspec": {
   "display_name": "Python 3 (ipykernel)",
   "language": "python",
   "name": "python3"
  },
  "language_info": {
   "codemirror_mode": {
    "name": "ipython",
    "version": 3
   },
   "file_extension": ".py",
   "mimetype": "text/x-python",
   "name": "python",
   "nbconvert_exporter": "python",
   "pygments_lexer": "ipython3",
   "version": "3.9.16"
  }
 },
 "nbformat": 4,
 "nbformat_minor": 5
}
