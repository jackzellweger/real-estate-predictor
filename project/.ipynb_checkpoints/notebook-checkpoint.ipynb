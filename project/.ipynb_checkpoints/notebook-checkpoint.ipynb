{
 "cells": [
  {
   "cell_type": "code",
   "execution_count": 18,
   "id": "91d0db9f",
   "metadata": {},
   "outputs": [],
   "source": [
    "# OPERATING SYSTEM STUFF\n",
    "import io\n",
    "import gc\n",
    "\n",
    "# CONFIGURATION FILES\n",
    "import config\n",
    "\n",
    "# DATA SCIENCE\n",
    "import numpy as np\n",
    "import matplotlib.pyplot as plt\n",
    "import pandas as pd\n",
    "\n",
    "# API STUFF\n",
    "import xlrd\n",
    "import requests\n",
    "\n",
    "# SQL\n",
    "from sqlalchemy import create_engine, text\n",
    "\n",
    "# GEOCODING\n",
    "from geopy.geocoders import GoogleV3"
   ]
  },
  {
   "cell_type": "code",
   "execution_count": 3,
   "id": "0fa97a1f",
   "metadata": {},
   "outputs": [],
   "source": [
    "# START SQL DATABASE\n",
    "# import os\n",
    "# os.environ['SQLALCHEMY_WARN_20'] = '0'\n",
    "\n",
    "# engine = create_engine('mysql+pymysql://root:rootpassword@db')\n",
    "\n",
    "# with engine.connect() as connection:\n",
    "#     connection.execute(text(\"CREATE DATABASE new_database;\"))\n",
    "\n",
    "# SHOW DATABASES\n",
    "# with engine.connect() as connection:\n",
    "#     result = connection.execute(text(\"SHOW DATABASES;\"))\n",
    "#     databases = [row[0] for row in result]\n",
    "#     print(databases)\n"
   ]
  },
  {
   "cell_type": "code",
   "execution_count": 5,
   "id": "a81f85bb",
   "metadata": {},
   "outputs": [],
   "source": [
    "# URL Schema\n",
    "# [Manhattan, Bronx, Brooklyn, Queens, Staten Island]\n",
    "\n",
    "dataURLs = ['https://www.nyc.gov/assets/finance/downloads/pdf/rolling_sales/rollingsales_manhattan.xlsx',\n",
    "           'https://www.nyc.gov/assets/finance/downloads/pdf/rolling_sales/rollingsales_bronx.xlsx',\n",
    "           'https://www.nyc.gov/assets/finance/downloads/pdf/rolling_sales/rollingsales_brooklyn.xlsx',\n",
    "           'https://www.nyc.gov/assets/finance/downloads/pdf/rolling_sales/rollingsales_queens.xlsx',\n",
    "           'https://www.nyc.gov/assets/finance/downloads/pdf/rolling_sales/rollingsales_statenisland.xlsx']"
   ]
  },
  {
   "cell_type": "code",
   "execution_count": 6,
   "id": "4364c06c",
   "metadata": {},
   "outputs": [],
   "source": [
    "data = []\n",
    "\n",
    "# PULL DATA FROM NYC WEBSITE\n",
    "for url in dataURLs:\n",
    "    # Read Excel file and skip the first 4 rows\n",
    "    df = pd.read_excel(url, skiprows=4, engine=\"openpyxl\")\n",
    "    data.append(df)"
   ]
  },
  {
   "cell_type": "code",
   "execution_count": 23,
   "id": "12066813",
   "metadata": {},
   "outputs": [],
   "source": [
    "# Combine the dataframes\n",
    "combined = pd.concat(data, ignore_index=True)\n",
    "\n",
    "# Add Boroughs\n",
    "# Rename the 'BOROUGH' column to 'BOROUGH CODE'\n",
    "combined = combined.rename(columns={'BOROUGH': 'BOROUGH CODE'})\n",
    "\n",
    "# Define the mapping for borough codes to borough names\n",
    "borough_mapping = {1: 'MANHATTAN', 2: 'BRONX', 3: 'BROOKLYN', 4: 'QUEENS', 5: 'STATEN ISLAND'}\n",
    "\n",
    "# Create a new 'BOROUGH' column based on 'BOROUGH CODE'\n",
    "borough = combined['BOROUGH CODE'].map(borough_mapping)\n",
    "\n",
    "# Insert the new 'BOROUGH' column into the DataFrame right after the 'BOROUGH CODE' column\n",
    "combined.insert(loc=1, column='BOROUGH', value=borough)"
   ]
  },
  {
   "cell_type": "code",
   "execution_count": 9,
   "id": "8dd67d25",
   "metadata": {},
   "outputs": [],
   "source": [
    "# GENERATE MAPPING BETWEEN NYC DATA AND ZILLOW CATEGORIES.\n",
    "\n",
    "# Get the unique values in the \"BUILDING CLASS CATEGORY\" column\n",
    "unique_building_classes = combined[\"BUILDING CLASS CATEGORY\"].unique()\n",
    "\n",
    "# Extract the leading number from each string, convert to int, sort and display\n",
    "sorted_building_classes = sorted(unique_building_classes, key=lambda x: int(x.split(\" \")[0]))\n",
    "\n",
    "# Define the mappings\n",
    "mapping = {\n",
    "    \"Single-family home\": ['01 ONE FAMILY DWELLINGS'],\n",
    "    \"Multi-family home\": ['03 THREE FAMILY DWELLINGS',\n",
    "                          '07 RENTALS - WALKUP APARTMENTS',\n",
    "                          '08 RENTALS - ELEVATOR APARTMENTS',\n",
    "                          '14 RENTALS - 4-10 UNIT'],\n",
    "    \"Apartment\": ['07 RENTALS - WALKUP APARTMENTS',\n",
    "                  '08 RENTALS - ELEVATOR APARTMENTS',\n",
    "                  '09 COOPS - WALKUP APARTMENTS',\n",
    "                  '10 COOPS - ELEVATOR APARTMENTS'],\n",
    "    \"Condo\": ['04 TAX CLASS 1 CONDOS',\n",
    "              '12 CONDOS - WALKUP APARTMENTS',\n",
    "              '13 CONDOS - ELEVATOR APARTMENTS',\n",
    "              '15 CONDOS - 2-10 UNIT RESIDENTIAL',\n",
    "              '16 CONDOS - 2-10 UNIT WITH COMMERCIAL UNIT'],\n",
    "    \"Co-op\": ['09 COOPS - WALKUP APARTMENTS',\n",
    "              '10 COOPS - ELEVATOR APARTMENTS',\n",
    "              '17 CONDO COOPS'],\n",
    "    \"Duplex\": ['02 TWO FAMILY DWELLINGS'],\n",
    "    \"Townhouse\": ['01 ONE FAMILY DWELLINGS',\n",
    "                  '02 TWO FAMILY DWELLINGS'],\n",
    "    \"Brownstone\": ['01 ONE FAMILY DWELLINGS',\n",
    "                   '02 TWO FAMILY DWELLINGS'],\n",
    "    \"Row house\": ['01 ONE FAMILY DWELLINGS',\n",
    "                  '02 TWO FAMILY DWELLINGS'],\n",
    "}\n",
    "\n",
    "# Flatten the mapping dictionary to create a dataframe\n",
    "mapping_list = [(k, v) for k, vals in mapping.items() for v in vals]\n",
    "mapping_df = pd.DataFrame(mapping_list, columns=['ZILLOW CATEGORY', 'BUILDING CLASS CATEGORY'])"
   ]
  },
  {
   "cell_type": "code",
   "execution_count": 20,
   "id": "a0ca783b",
   "metadata": {},
   "outputs": [
    {
     "data": {
      "text/plain": [
       "(40.7216651, -73.97831219999999)"
      ]
     },
     "execution_count": 20,
     "metadata": {},
     "output_type": "execute_result"
    }
   ],
   "source": [
    "geolocator = GoogleV3(api_key=config.GOOGLE_API_KEY)\n",
    "\n",
    "def geolocate(address):\n",
    "    location = geolocator.geocode(address)\n",
    "    if location:\n",
    "        return location.latitude, location.longitude\n",
    "    else:\n",
    "        return None, None\n",
    "\n",
    "# combined['latitude'], combined['longitude'] = zip(*combined['ADDRESS'].apply(geolocate))\n",
    "\n",
    "geolocate('347 EAST 4TH STREET'+', Manhattan, New York City')\n"
   ]
  },
  {
   "cell_type": "code",
   "execution_count": null,
   "id": "ca573423",
   "metadata": {
    "scrolled": true
   },
   "outputs": [],
   "source": []
  },
  {
   "cell_type": "code",
   "execution_count": null,
   "id": "325ecc5d",
   "metadata": {},
   "outputs": [],
   "source": []
  },
  {
   "cell_type": "code",
   "execution_count": 16,
   "id": "e73bc28b",
   "metadata": {},
   "outputs": [],
   "source": [
    "# combined.to_csv('combined.csv', index=False)\n"
   ]
  },
  {
   "cell_type": "code",
   "execution_count": null,
   "id": "0924ac90",
   "metadata": {},
   "outputs": [],
   "source": []
  }
 ],
 "metadata": {
  "kernelspec": {
   "display_name": "Python 3",
   "language": "python",
   "name": "python3"
  },
  "language_info": {
   "codemirror_mode": {
    "name": "ipython",
    "version": 3
   },
   "file_extension": ".py",
   "mimetype": "text/x-python",
   "name": "python",
   "nbconvert_exporter": "python",
   "pygments_lexer": "ipython3",
   "version": "3.6.9"
  }
 },
 "nbformat": 4,
 "nbformat_minor": 5
}
